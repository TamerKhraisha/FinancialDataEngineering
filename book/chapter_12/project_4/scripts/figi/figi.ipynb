{
 "cells": [
  {
   "cell_type": "markdown",
   "id": "25654d39-4389-4577-854f-734d1a8e0429",
   "metadata": {},
   "source": [
    "# Download and export openFIGI data for S&P100 stocks"
   ]
  },
  {
   "cell_type": "code",
   "execution_count": 11,
   "id": "a7a6d86b-d498-4534-91a1-6b5239354822",
   "metadata": {},
   "outputs": [],
   "source": [
    "import pandas as pd\n",
    "import json\n",
    "from figi import map_jobs, insert_data_into_db"
   ]
  },
  {
   "cell_type": "markdown",
   "id": "4e8a34bc-414a-4143-9e52-0a2f0f924017",
   "metadata": {},
   "source": [
    "### Load the S&P100 ticker and related identification data\n",
    "\n",
    "The composition of the S&P100 index is taken as of March 18, 2024. \n",
    "\n",
    "S&P100 ticker, name, and sector data source: [wikipedia](https://en.wikipedia.org/wiki/S%26P_100)\n",
    "\n",
    "ISINs were collected manually"
   ]
  },
  {
   "cell_type": "code",
   "execution_count": 12,
   "id": "06dab63f-af8f-44ea-ae30-18c897b91416",
   "metadata": {},
   "outputs": [],
   "source": [
    "with open('../../data/sp100_constituents.json', 'r') as file:\n",
    "    companies = json.load(file)\n",
    "\n",
    "df_base = pd.DataFrame.from_dict(companies)"
   ]
  },
  {
   "cell_type": "code",
   "execution_count": 13,
   "id": "18ac1de9-7e9e-410b-976b-ad2888053748",
   "metadata": {},
   "outputs": [
    {
     "data": {
      "text/html": [
       "<div>\n",
       "<style scoped>\n",
       "    .dataframe tbody tr th:only-of-type {\n",
       "        vertical-align: middle;\n",
       "    }\n",
       "\n",
       "    .dataframe tbody tr th {\n",
       "        vertical-align: top;\n",
       "    }\n",
       "\n",
       "    .dataframe thead th {\n",
       "        text-align: right;\n",
       "    }\n",
       "</style>\n",
       "<table border=\"1\" class=\"dataframe\">\n",
       "  <thead>\n",
       "    <tr style=\"text-align: right;\">\n",
       "      <th></th>\n",
       "      <th>name</th>\n",
       "      <th>sector</th>\n",
       "      <th>isin</th>\n",
       "      <th>ticker</th>\n",
       "    </tr>\n",
       "  </thead>\n",
       "  <tbody>\n",
       "    <tr>\n",
       "      <th>0</th>\n",
       "      <td>Apple</td>\n",
       "      <td>Information Technology</td>\n",
       "      <td>US0378331005</td>\n",
       "      <td>AAPL</td>\n",
       "    </tr>\n",
       "    <tr>\n",
       "      <th>1</th>\n",
       "      <td>AbbVie</td>\n",
       "      <td>Health Care</td>\n",
       "      <td>US00287Y1091</td>\n",
       "      <td>ABBV</td>\n",
       "    </tr>\n",
       "    <tr>\n",
       "      <th>2</th>\n",
       "      <td>Abbott Laboratories</td>\n",
       "      <td>Health Care</td>\n",
       "      <td>US0028241000</td>\n",
       "      <td>ABT</td>\n",
       "    </tr>\n",
       "    <tr>\n",
       "      <th>3</th>\n",
       "      <td>Accenture</td>\n",
       "      <td>Information Technology</td>\n",
       "      <td>IE00B4BNMY34</td>\n",
       "      <td>ACN</td>\n",
       "    </tr>\n",
       "    <tr>\n",
       "      <th>4</th>\n",
       "      <td>Adobe</td>\n",
       "      <td>Information Technology</td>\n",
       "      <td>US00724F1012</td>\n",
       "      <td>ADBE</td>\n",
       "    </tr>\n",
       "  </tbody>\n",
       "</table>\n",
       "</div>"
      ],
      "text/plain": [
       "                  name                  sector          isin ticker\n",
       "0                Apple  Information Technology  US0378331005   AAPL\n",
       "1               AbbVie             Health Care  US00287Y1091   ABBV\n",
       "2  Abbott Laboratories             Health Care  US0028241000    ABT\n",
       "3            Accenture  Information Technology  IE00B4BNMY34    ACN\n",
       "4                Adobe  Information Technology  US00724F1012   ADBE"
      ]
     },
     "execution_count": 13,
     "metadata": {},
     "output_type": "execute_result"
    }
   ],
   "source": [
    "df_base.head()"
   ]
  },
  {
   "cell_type": "markdown",
   "id": "ce35c77c-91b0-40f3-892d-965ca38db9c9",
   "metadata": {},
   "source": [
    "### Fetch FIGI codes from openFIGI\n",
    "\n",
    "For details on openFIGI API, see the official [webpage](https://www.openfigi.com/api)\n",
    "\n",
    "For details on exchange codes and their meanings, see the downlaodable file called Exchange Codes in this [page](https://www.openfigi.com/about/figi). A copy of the file is available in this directory under the name *openfigi_exchange_codes.csv*"
   ]
  },
  {
   "cell_type": "markdown",
   "id": "c0b7080d-29d2-4f55-a792-f6a20b3ea444",
   "metadata": {},
   "source": [
    "### Create a list of openFIGI input objects with ISIN values and New York Stock Exchange MIC code XNYS"
   ]
  },
  {
   "cell_type": "code",
   "execution_count": 14,
   "id": "5b2f804f-f42c-4a61-a7ca-9ab684e26664",
   "metadata": {},
   "outputs": [],
   "source": [
    "mic_code = 'XNYS' # we are interested in the records for the New York Stock Exchange market\n",
    "open_figi_jobs = [{'idType': 'TICKER', 'micCode': mic_code, 'idValue': company['ticker']} for company in companies]"
   ]
  },
  {
   "cell_type": "markdown",
   "id": "d8d39c0e-dcf7-4816-b355-eeed263a5645",
   "metadata": {},
   "source": [
    "### Make the API calls"
   ]
  },
  {
   "cell_type": "code",
   "execution_count": 15,
   "id": "efb218d6-6491-411c-b4e7-2e72f00eae0b",
   "metadata": {},
   "outputs": [],
   "source": [
    "open_figi_results = []\n",
    "chunk_size = 10  # The free openFIGI API has a rate limit of 10 max jobs per request\n",
    "for i in range(0, len(open_figi_jobs), chunk_size): # Loop over the list, processing 10 items at a time\n",
    "    jobs_chunk = open_figi_jobs[i:i+chunk_size]\n",
    "    open_figi_results.extend(map_jobs(jobs_chunk))"
   ]
  },
  {
   "cell_type": "markdown",
   "id": "dec04f3f-4688-4657-9bb8-d2df63cab232",
   "metadata": {},
   "source": [
    "### Clean the data"
   ]
  },
  {
   "cell_type": "code",
   "execution_count": 16,
   "id": "03d9f7cb-f027-46a8-9f7c-7ceae382af4f",
   "metadata": {},
   "outputs": [],
   "source": [
    "open_figi_results = [i for i in open_figi_results if 'error' not in i]\n",
    "open_figi_results = [d['data'][0] for d in open_figi_results]"
   ]
  },
  {
   "cell_type": "markdown",
   "id": "933bf39a-1dab-4b6a-ae4e-5eacd013b4da",
   "metadata": {},
   "source": [
    "### Create a dataframe and drop unnecessary columns"
   ]
  },
  {
   "cell_type": "code",
   "execution_count": 17,
   "id": "759ee620-35f0-4659-86af-356efc1cb149",
   "metadata": {},
   "outputs": [
    {
     "data": {
      "text/html": [
       "<div>\n",
       "<style scoped>\n",
       "    .dataframe tbody tr th:only-of-type {\n",
       "        vertical-align: middle;\n",
       "    }\n",
       "\n",
       "    .dataframe tbody tr th {\n",
       "        vertical-align: top;\n",
       "    }\n",
       "\n",
       "    .dataframe thead th {\n",
       "        text-align: right;\n",
       "    }\n",
       "</style>\n",
       "<table border=\"1\" class=\"dataframe\">\n",
       "  <thead>\n",
       "    <tr style=\"text-align: right;\">\n",
       "      <th></th>\n",
       "      <th>figi</th>\n",
       "      <th>name</th>\n",
       "      <th>ticker</th>\n",
       "      <th>exch_code</th>\n",
       "      <th>composite_figi</th>\n",
       "      <th>security_type</th>\n",
       "      <th>market_sector</th>\n",
       "      <th>share_class_figi</th>\n",
       "      <th>security_type2</th>\n",
       "      <th>security_description</th>\n",
       "    </tr>\n",
       "  </thead>\n",
       "  <tbody>\n",
       "    <tr>\n",
       "      <th>0</th>\n",
       "      <td>BBG000B9XVV8</td>\n",
       "      <td>APPLE INC</td>\n",
       "      <td>AAPL</td>\n",
       "      <td>UN</td>\n",
       "      <td>BBG000B9XRY4</td>\n",
       "      <td>Common Stock</td>\n",
       "      <td>Equity</td>\n",
       "      <td>BBG001S5N8V8</td>\n",
       "      <td>Common Stock</td>\n",
       "      <td>AAPL</td>\n",
       "    </tr>\n",
       "    <tr>\n",
       "      <th>1</th>\n",
       "      <td>BBG003P7K0B5</td>\n",
       "      <td>ABBVIE INC</td>\n",
       "      <td>ABBV</td>\n",
       "      <td>UN</td>\n",
       "      <td>BBG0025Y4RY4</td>\n",
       "      <td>Common Stock</td>\n",
       "      <td>Equity</td>\n",
       "      <td>BBG0025Y4RZ3</td>\n",
       "      <td>Common Stock</td>\n",
       "      <td>ABBV</td>\n",
       "    </tr>\n",
       "    <tr>\n",
       "      <th>2</th>\n",
       "      <td>BBG000B9ZZG4</td>\n",
       "      <td>ABBOTT LABORATORIES</td>\n",
       "      <td>ABT</td>\n",
       "      <td>UN</td>\n",
       "      <td>BBG000B9ZXB4</td>\n",
       "      <td>Common Stock</td>\n",
       "      <td>Equity</td>\n",
       "      <td>BBG001S5N9M6</td>\n",
       "      <td>Common Stock</td>\n",
       "      <td>ABT</td>\n",
       "    </tr>\n",
       "    <tr>\n",
       "      <th>3</th>\n",
       "      <td>BBG000D9DC22</td>\n",
       "      <td>ACCENTURE PLC-CL A</td>\n",
       "      <td>ACN</td>\n",
       "      <td>UN</td>\n",
       "      <td>BBG000D9D830</td>\n",
       "      <td>Common Stock</td>\n",
       "      <td>Equity</td>\n",
       "      <td>BBG001SCXK90</td>\n",
       "      <td>Common Stock</td>\n",
       "      <td>ACN</td>\n",
       "    </tr>\n",
       "    <tr>\n",
       "      <th>4</th>\n",
       "      <td>BBG000BB5159</td>\n",
       "      <td>ADOBE INC</td>\n",
       "      <td>ADBE</td>\n",
       "      <td>UN</td>\n",
       "      <td>BBG000BB5006</td>\n",
       "      <td>Common Stock</td>\n",
       "      <td>Equity</td>\n",
       "      <td>BBG001S5NCQ5</td>\n",
       "      <td>Common Stock</td>\n",
       "      <td>ADBE</td>\n",
       "    </tr>\n",
       "  </tbody>\n",
       "</table>\n",
       "</div>"
      ],
      "text/plain": [
       "           figi                 name ticker exch_code composite_figi  \\\n",
       "0  BBG000B9XVV8            APPLE INC   AAPL        UN   BBG000B9XRY4   \n",
       "1  BBG003P7K0B5           ABBVIE INC   ABBV        UN   BBG0025Y4RY4   \n",
       "2  BBG000B9ZZG4  ABBOTT LABORATORIES    ABT        UN   BBG000B9ZXB4   \n",
       "3  BBG000D9DC22   ACCENTURE PLC-CL A    ACN        UN   BBG000D9D830   \n",
       "4  BBG000BB5159            ADOBE INC   ADBE        UN   BBG000BB5006   \n",
       "\n",
       "  security_type market_sector share_class_figi security_type2  \\\n",
       "0  Common Stock        Equity     BBG001S5N8V8   Common Stock   \n",
       "1  Common Stock        Equity     BBG0025Y4RZ3   Common Stock   \n",
       "2  Common Stock        Equity     BBG001S5N9M6   Common Stock   \n",
       "3  Common Stock        Equity     BBG001SCXK90   Common Stock   \n",
       "4  Common Stock        Equity     BBG001S5NCQ5   Common Stock   \n",
       "\n",
       "  security_description  \n",
       "0                 AAPL  \n",
       "1                 ABBV  \n",
       "2                  ABT  \n",
       "3                  ACN  \n",
       "4                 ADBE  "
      ]
     },
     "execution_count": 17,
     "metadata": {},
     "output_type": "execute_result"
    }
   ],
   "source": [
    "\n",
    "df_figi = pd.DataFrame.from_dict(open_figi_results)\n",
    "\n",
    "df_figi.rename(columns={\"exchCode\": \"exch_code\", \n",
    "                        \"compositeFIGI\": \"composite_figi\",\n",
    "                        \"securityType\": \"security_type\",\n",
    "                        \"marketSector\": \"market_sector\",\n",
    "                        \"shareClassFIGI\": \"share_class_figi\",\n",
    "                        \"securityType2\": \"security_type2\",\n",
    "                        \"securityDescription\": \"security_description\"},\n",
    "              inplace=True)\n",
    "df_figi.drop(columns=['uniqueID', 'uniqueIDFutOpt'], inplace=True)\n",
    "\n",
    "df_figi.head()"
   ]
  },
  {
   "cell_type": "markdown",
   "id": "50b57ea5-e0cb-4bae-b02e-f224708c0379",
   "metadata": {},
   "source": [
    "### Add the MIC code column"
   ]
  },
  {
   "cell_type": "code",
   "execution_count": 18,
   "id": "f9db6c94-e0fa-495f-bf7b-0e593f785c7e",
   "metadata": {},
   "outputs": [],
   "source": [
    "df_figi['mic_code'] = mic_code\n",
    "df_figi = df_figi.merge(df_base[['ticker', 'isin']], on='ticker', how='left')"
   ]
  },
  {
   "cell_type": "code",
   "execution_count": 19,
   "id": "603892eb-71fc-495d-a2cf-09f1450fe33d",
   "metadata": {},
   "outputs": [
    {
     "data": {
      "text/html": [
       "<div>\n",
       "<style scoped>\n",
       "    .dataframe tbody tr th:only-of-type {\n",
       "        vertical-align: middle;\n",
       "    }\n",
       "\n",
       "    .dataframe tbody tr th {\n",
       "        vertical-align: top;\n",
       "    }\n",
       "\n",
       "    .dataframe thead th {\n",
       "        text-align: right;\n",
       "    }\n",
       "</style>\n",
       "<table border=\"1\" class=\"dataframe\">\n",
       "  <thead>\n",
       "    <tr style=\"text-align: right;\">\n",
       "      <th></th>\n",
       "      <th>figi</th>\n",
       "      <th>name</th>\n",
       "      <th>ticker</th>\n",
       "      <th>exch_code</th>\n",
       "      <th>composite_figi</th>\n",
       "      <th>security_type</th>\n",
       "      <th>market_sector</th>\n",
       "      <th>share_class_figi</th>\n",
       "      <th>security_type2</th>\n",
       "      <th>security_description</th>\n",
       "      <th>mic_code</th>\n",
       "      <th>isin</th>\n",
       "    </tr>\n",
       "  </thead>\n",
       "  <tbody>\n",
       "    <tr>\n",
       "      <th>0</th>\n",
       "      <td>BBG000B9XVV8</td>\n",
       "      <td>APPLE INC</td>\n",
       "      <td>AAPL</td>\n",
       "      <td>UN</td>\n",
       "      <td>BBG000B9XRY4</td>\n",
       "      <td>Common Stock</td>\n",
       "      <td>Equity</td>\n",
       "      <td>BBG001S5N8V8</td>\n",
       "      <td>Common Stock</td>\n",
       "      <td>AAPL</td>\n",
       "      <td>XNYS</td>\n",
       "      <td>US0378331005</td>\n",
       "    </tr>\n",
       "    <tr>\n",
       "      <th>1</th>\n",
       "      <td>BBG003P7K0B5</td>\n",
       "      <td>ABBVIE INC</td>\n",
       "      <td>ABBV</td>\n",
       "      <td>UN</td>\n",
       "      <td>BBG0025Y4RY4</td>\n",
       "      <td>Common Stock</td>\n",
       "      <td>Equity</td>\n",
       "      <td>BBG0025Y4RZ3</td>\n",
       "      <td>Common Stock</td>\n",
       "      <td>ABBV</td>\n",
       "      <td>XNYS</td>\n",
       "      <td>US00287Y1091</td>\n",
       "    </tr>\n",
       "    <tr>\n",
       "      <th>2</th>\n",
       "      <td>BBG000B9ZZG4</td>\n",
       "      <td>ABBOTT LABORATORIES</td>\n",
       "      <td>ABT</td>\n",
       "      <td>UN</td>\n",
       "      <td>BBG000B9ZXB4</td>\n",
       "      <td>Common Stock</td>\n",
       "      <td>Equity</td>\n",
       "      <td>BBG001S5N9M6</td>\n",
       "      <td>Common Stock</td>\n",
       "      <td>ABT</td>\n",
       "      <td>XNYS</td>\n",
       "      <td>US0028241000</td>\n",
       "    </tr>\n",
       "    <tr>\n",
       "      <th>3</th>\n",
       "      <td>BBG000D9DC22</td>\n",
       "      <td>ACCENTURE PLC-CL A</td>\n",
       "      <td>ACN</td>\n",
       "      <td>UN</td>\n",
       "      <td>BBG000D9D830</td>\n",
       "      <td>Common Stock</td>\n",
       "      <td>Equity</td>\n",
       "      <td>BBG001SCXK90</td>\n",
       "      <td>Common Stock</td>\n",
       "      <td>ACN</td>\n",
       "      <td>XNYS</td>\n",
       "      <td>IE00B4BNMY34</td>\n",
       "    </tr>\n",
       "    <tr>\n",
       "      <th>4</th>\n",
       "      <td>BBG000BB5159</td>\n",
       "      <td>ADOBE INC</td>\n",
       "      <td>ADBE</td>\n",
       "      <td>UN</td>\n",
       "      <td>BBG000BB5006</td>\n",
       "      <td>Common Stock</td>\n",
       "      <td>Equity</td>\n",
       "      <td>BBG001S5NCQ5</td>\n",
       "      <td>Common Stock</td>\n",
       "      <td>ADBE</td>\n",
       "      <td>XNYS</td>\n",
       "      <td>US00724F1012</td>\n",
       "    </tr>\n",
       "  </tbody>\n",
       "</table>\n",
       "</div>"
      ],
      "text/plain": [
       "           figi                 name ticker exch_code composite_figi  \\\n",
       "0  BBG000B9XVV8            APPLE INC   AAPL        UN   BBG000B9XRY4   \n",
       "1  BBG003P7K0B5           ABBVIE INC   ABBV        UN   BBG0025Y4RY4   \n",
       "2  BBG000B9ZZG4  ABBOTT LABORATORIES    ABT        UN   BBG000B9ZXB4   \n",
       "3  BBG000D9DC22   ACCENTURE PLC-CL A    ACN        UN   BBG000D9D830   \n",
       "4  BBG000BB5159            ADOBE INC   ADBE        UN   BBG000BB5006   \n",
       "\n",
       "  security_type market_sector share_class_figi security_type2  \\\n",
       "0  Common Stock        Equity     BBG001S5N8V8   Common Stock   \n",
       "1  Common Stock        Equity     BBG0025Y4RZ3   Common Stock   \n",
       "2  Common Stock        Equity     BBG001S5N9M6   Common Stock   \n",
       "3  Common Stock        Equity     BBG001SCXK90   Common Stock   \n",
       "4  Common Stock        Equity     BBG001S5NCQ5   Common Stock   \n",
       "\n",
       "  security_description mic_code          isin  \n",
       "0                 AAPL     XNYS  US0378331005  \n",
       "1                 ABBV     XNYS  US00287Y1091  \n",
       "2                  ABT     XNYS  US0028241000  \n",
       "3                  ACN     XNYS  IE00B4BNMY34  \n",
       "4                 ADBE     XNYS  US00724F1012  "
      ]
     },
     "execution_count": 19,
     "metadata": {},
     "output_type": "execute_result"
    }
   ],
   "source": [
    "df_figi.head()"
   ]
  },
  {
   "cell_type": "markdown",
   "id": "b041b26b-b50b-4a0f-b853-43a82838038d",
   "metadata": {},
   "source": [
    "### Insert data into the database"
   ]
  },
  {
   "cell_type": "code",
   "execution_count": 20,
   "id": "fdbd7039-f6b4-4814-bcf6-12adfc6281b5",
   "metadata": {},
   "outputs": [
    {
     "name": "stdout",
     "output_type": "stream",
     "text": [
      "Successfully inserted 99 rows into the 'figi' table.\n"
     ]
    }
   ],
   "source": [
    "insert_data_into_db(df_figi)"
   ]
  }
 ],
 "metadata": {
  "kernelspec": {
   "display_name": "Python 3 (ipykernel)",
   "language": "python",
   "name": "python3"
  },
  "language_info": {
   "codemirror_mode": {
    "name": "ipython",
    "version": 3
   },
   "file_extension": ".py",
   "mimetype": "text/x-python",
   "name": "python",
   "nbconvert_exporter": "python",
   "pygments_lexer": "ipython3",
   "version": "3.11.6"
  }
 },
 "nbformat": 4,
 "nbformat_minor": 5
}
