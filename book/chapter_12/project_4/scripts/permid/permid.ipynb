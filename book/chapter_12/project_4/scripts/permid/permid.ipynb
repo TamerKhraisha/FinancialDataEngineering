{
 "cells": [
  {
   "cell_type": "markdown",
   "id": "49c7b870-2cce-4368-877f-bc1946ffacbc",
   "metadata": {},
   "source": [
    "# Download and export PermID data for S&P100 stocks"
   ]
  },
  {
   "cell_type": "code",
   "execution_count": 1,
   "id": "fd932f40-4e37-4358-afe3-2aa62b13edd9",
   "metadata": {},
   "outputs": [],
   "source": [
    "from permid import search_by_ticker_and_mic, parse_permid_search_output, insert_data_into_db\n",
    "import json\n",
    "import pandas as pd"
   ]
  },
  {
   "cell_type": "markdown",
   "id": "1b866fb0-4bfa-4fb5-b60e-97eda3ca0bff",
   "metadata": {},
   "source": [
    "### Load the S&P100 ticker and related identification data"
   ]
  },
  {
   "cell_type": "code",
   "execution_count": 2,
   "id": "55cc7f5a-86b7-445e-ae46-da49d41f2669",
   "metadata": {},
   "outputs": [],
   "source": [
    "with open('../../data/sp100_constituents.json', 'r') as file:\n",
    "    companies = json.load(file)\n",
    "\n",
    "df_base = pd.DataFrame.from_dict(companies)"
   ]
  },
  {
   "cell_type": "markdown",
   "id": "8fa9fb30-a471-40e1-be2c-6d2750400b68",
   "metadata": {},
   "source": [
    "### Request the data\n",
    "\n",
    "#### PermID has two types of APIs\n",
    "- [PermId - Entity Search - RESTful API](https://developers.lseg.com/en/api-catalog/open-perm-id/permid-record-matching-restful-api/documentation#)\n",
    "- [Record Matching - Record Matching RESTful API](https://developers.lseg.com/en/api-catalog/open-perm-id/permid-record-matching-restful-api)\n",
    "\n",
    "Visit the links of each API to read about their documentation. You might need to login in with your PermID credentials in order to access the API documentation\n",
    "\n",
    "In this project, we will be using the search API. Check the *scripts/permid/permid.py* file to see the request details"
   ]
  },
  {
   "cell_type": "code",
   "execution_count": 3,
   "id": "8cd11b9e-a643-467b-be4c-3cda788a9a57",
   "metadata": {},
   "outputs": [],
   "source": [
    "mic_code = 'XNYS' # We are interested in the New York Stock Exchange\n",
    "permid_df = pd.DataFrame()\n",
    "for ticker in df_base['ticker']:\n",
    "    request_output_json = search_by_ticker_and_mic(ticker=ticker, mic=mic_code)\n",
    "    request_output_df = parse_permid_search_output(output_json=request_output_json)\n",
    "    permid_df = pd.concat([permid_df, request_output_df])"
   ]
  },
  {
   "cell_type": "markdown",
   "id": "46fec9f1-1697-4114-9c30-9c2f02c09dfa",
   "metadata": {},
   "source": [
    "### Display a sample of the data"
   ]
  },
  {
   "cell_type": "code",
   "execution_count": 4,
   "id": "cbbc5b58-ea9a-4f0a-913a-6218e10825eb",
   "metadata": {},
   "outputs": [
    {
     "data": {
      "text/html": [
       "<div>\n",
       "<style scoped>\n",
       "    .dataframe tbody tr th:only-of-type {\n",
       "        vertical-align: middle;\n",
       "    }\n",
       "\n",
       "    .dataframe tbody tr th {\n",
       "        vertical-align: top;\n",
       "    }\n",
       "\n",
       "    .dataframe thead th {\n",
       "        text-align: right;\n",
       "    }\n",
       "</style>\n",
       "<table border=\"1\" class=\"dataframe\">\n",
       "  <thead>\n",
       "    <tr style=\"text-align: right;\">\n",
       "      <th></th>\n",
       "      <th>organization_id</th>\n",
       "      <th>organization_name</th>\n",
       "      <th>organization_primary_ticker</th>\n",
       "      <th>organization_subtype</th>\n",
       "      <th>organization_has_holding_classification</th>\n",
       "      <th>organization_webpage</th>\n",
       "      <th>instrument_id</th>\n",
       "      <th>instrument_name</th>\n",
       "      <th>instrument_asset_class</th>\n",
       "      <th>instrument_is_issued_by_name</th>\n",
       "      <th>instrument_primary_ticker</th>\n",
       "      <th>quote_id</th>\n",
       "      <th>quote_name</th>\n",
       "      <th>quote_asset_class</th>\n",
       "      <th>quote_ric</th>\n",
       "      <th>quote_mic</th>\n",
       "      <th>quote_exchange_ticker</th>\n",
       "    </tr>\n",
       "  </thead>\n",
       "  <tbody>\n",
       "    <tr>\n",
       "      <th>0</th>\n",
       "      <td>https://permid.org/1-4295905573</td>\n",
       "      <td>Apple Inc</td>\n",
       "      <td>AAPL</td>\n",
       "      <td>Company</td>\n",
       "      <td>publiclyHeld</td>\n",
       "      <td>https://www.apple.com/</td>\n",
       "      <td>https://permid.org/1-8590932301</td>\n",
       "      <td>Apple Ord Shs</td>\n",
       "      <td>Ordinary Shares</td>\n",
       "      <td>Apple Inc</td>\n",
       "      <td>AAPL</td>\n",
       "      <td>https://permid.org/1-25727408109</td>\n",
       "      <td>APPLE ORD</td>\n",
       "      <td>Ordinary Shares</td>\n",
       "      <td>AAPL.N</td>\n",
       "      <td>XNYS</td>\n",
       "      <td>AAPL</td>\n",
       "    </tr>\n",
       "    <tr>\n",
       "      <th>0</th>\n",
       "      <td>https://permid.org/1-5037613143</td>\n",
       "      <td>AbbVie Inc</td>\n",
       "      <td>ABBV</td>\n",
       "      <td>Company</td>\n",
       "      <td>publiclyHeld</td>\n",
       "      <td>https://www.abbvie.com/</td>\n",
       "      <td>https://permid.org/1-21514786348</td>\n",
       "      <td>AbbVie Ord Shs</td>\n",
       "      <td>Ordinary Shares</td>\n",
       "      <td>AbbVie Inc</td>\n",
       "      <td>ABBV</td>\n",
       "      <td>https://permid.org/1-21515722707</td>\n",
       "      <td>ABBVIE ORD</td>\n",
       "      <td>Ordinary Shares</td>\n",
       "      <td>ABBV.N</td>\n",
       "      <td>XNYS</td>\n",
       "      <td>ABBV</td>\n",
       "    </tr>\n",
       "    <tr>\n",
       "      <th>0</th>\n",
       "      <td>https://permid.org/1-4295903265</td>\n",
       "      <td>Abbott Laboratories</td>\n",
       "      <td>ABT</td>\n",
       "      <td>Company</td>\n",
       "      <td>publiclyHeld</td>\n",
       "      <td>https://www.abbott.com</td>\n",
       "      <td>https://permid.org/1-8590938522</td>\n",
       "      <td>Abbott Laboratories Ord Shs</td>\n",
       "      <td>Ordinary Shares</td>\n",
       "      <td>Abbott Laboratories</td>\n",
       "      <td>ABT</td>\n",
       "      <td>https://permid.org/1-55838319606</td>\n",
       "      <td>ABBOTT LABORATORIES ORD</td>\n",
       "      <td>Ordinary Shares</td>\n",
       "      <td>ABT.N</td>\n",
       "      <td>XNYS</td>\n",
       "      <td>ABT</td>\n",
       "    </tr>\n",
       "    <tr>\n",
       "      <th>0</th>\n",
       "      <td>https://permid.org/1-4295903017</td>\n",
       "      <td>Accenture PLC</td>\n",
       "      <td>ACN</td>\n",
       "      <td>Company</td>\n",
       "      <td>publiclyHeld</td>\n",
       "      <td>https://www.accenture.com/ie-en/</td>\n",
       "      <td>https://permid.org/1-8590921464</td>\n",
       "      <td>Accenture Ord Shs Class A</td>\n",
       "      <td>Ordinary Shares</td>\n",
       "      <td>Accenture PLC</td>\n",
       "      <td>ACN</td>\n",
       "      <td>https://permid.org/1-55838319623</td>\n",
       "      <td>ACCENTURE CL A ORD</td>\n",
       "      <td>Ordinary Shares</td>\n",
       "      <td>ACN.N</td>\n",
       "      <td>XNYS</td>\n",
       "      <td>ACN</td>\n",
       "    </tr>\n",
       "    <tr>\n",
       "      <th>0</th>\n",
       "      <td>https://permid.org/1-4295905431</td>\n",
       "      <td>Adobe Inc</td>\n",
       "      <td>ADBE</td>\n",
       "      <td>Company</td>\n",
       "      <td>publiclyHeld</td>\n",
       "      <td>https://www.adobe.com/</td>\n",
       "      <td>https://permid.org/1-8590938717</td>\n",
       "      <td>Adobe Ord Shs</td>\n",
       "      <td>Ordinary Shares</td>\n",
       "      <td>Adobe Inc</td>\n",
       "      <td>ADBE</td>\n",
       "      <td>https://permid.org/1-25727408083</td>\n",
       "      <td>ADOBE ORD</td>\n",
       "      <td>Ordinary Shares</td>\n",
       "      <td>ADBE.N</td>\n",
       "      <td>XNYS</td>\n",
       "      <td>ADBE</td>\n",
       "    </tr>\n",
       "  </tbody>\n",
       "</table>\n",
       "</div>"
      ],
      "text/plain": [
       "                   organization_id    organization_name  \\\n",
       "0  https://permid.org/1-4295905573            Apple Inc   \n",
       "0  https://permid.org/1-5037613143           AbbVie Inc   \n",
       "0  https://permid.org/1-4295903265  Abbott Laboratories   \n",
       "0  https://permid.org/1-4295903017        Accenture PLC   \n",
       "0  https://permid.org/1-4295905431            Adobe Inc   \n",
       "\n",
       "  organization_primary_ticker organization_subtype  \\\n",
       "0                        AAPL              Company   \n",
       "0                        ABBV              Company   \n",
       "0                         ABT              Company   \n",
       "0                         ACN              Company   \n",
       "0                        ADBE              Company   \n",
       "\n",
       "  organization_has_holding_classification              organization_webpage  \\\n",
       "0                            publiclyHeld            https://www.apple.com/   \n",
       "0                            publiclyHeld           https://www.abbvie.com/   \n",
       "0                            publiclyHeld            https://www.abbott.com   \n",
       "0                            publiclyHeld  https://www.accenture.com/ie-en/   \n",
       "0                            publiclyHeld            https://www.adobe.com/   \n",
       "\n",
       "                      instrument_id              instrument_name  \\\n",
       "0   https://permid.org/1-8590932301                Apple Ord Shs   \n",
       "0  https://permid.org/1-21514786348               AbbVie Ord Shs   \n",
       "0   https://permid.org/1-8590938522  Abbott Laboratories Ord Shs   \n",
       "0   https://permid.org/1-8590921464    Accenture Ord Shs Class A   \n",
       "0   https://permid.org/1-8590938717                Adobe Ord Shs   \n",
       "\n",
       "  instrument_asset_class instrument_is_issued_by_name  \\\n",
       "0        Ordinary Shares                    Apple Inc   \n",
       "0        Ordinary Shares                   AbbVie Inc   \n",
       "0        Ordinary Shares          Abbott Laboratories   \n",
       "0        Ordinary Shares                Accenture PLC   \n",
       "0        Ordinary Shares                    Adobe Inc   \n",
       "\n",
       "  instrument_primary_ticker                          quote_id  \\\n",
       "0                      AAPL  https://permid.org/1-25727408109   \n",
       "0                      ABBV  https://permid.org/1-21515722707   \n",
       "0                       ABT  https://permid.org/1-55838319606   \n",
       "0                       ACN  https://permid.org/1-55838319623   \n",
       "0                      ADBE  https://permid.org/1-25727408083   \n",
       "\n",
       "                quote_name quote_asset_class quote_ric quote_mic  \\\n",
       "0                APPLE ORD   Ordinary Shares    AAPL.N      XNYS   \n",
       "0               ABBVIE ORD   Ordinary Shares    ABBV.N      XNYS   \n",
       "0  ABBOTT LABORATORIES ORD   Ordinary Shares     ABT.N      XNYS   \n",
       "0       ACCENTURE CL A ORD   Ordinary Shares     ACN.N      XNYS   \n",
       "0                ADOBE ORD   Ordinary Shares    ADBE.N      XNYS   \n",
       "\n",
       "  quote_exchange_ticker  \n",
       "0                  AAPL  \n",
       "0                  ABBV  \n",
       "0                   ABT  \n",
       "0                   ACN  \n",
       "0                  ADBE  "
      ]
     },
     "execution_count": 4,
     "metadata": {},
     "output_type": "execute_result"
    }
   ],
   "source": [
    "permid_df.head()"
   ]
  },
  {
   "cell_type": "markdown",
   "id": "20f20742-90ed-4b2f-b3c9-5c77c65252f8",
   "metadata": {},
   "source": [
    "### Insert data into the database"
   ]
  },
  {
   "cell_type": "code",
   "execution_count": 5,
   "id": "944c0e56-853a-44c2-8af4-ee48a7d065c4",
   "metadata": {},
   "outputs": [
    {
     "name": "stdout",
     "output_type": "stream",
     "text": [
      "Successfully inserted 102 rows into the permid table!\n"
     ]
    }
   ],
   "source": [
    "insert_data_into_db(df=permid_df)"
   ]
  }
 ],
 "metadata": {
  "kernelspec": {
   "display_name": "Python 3 (ipykernel)",
   "language": "python",
   "name": "python3"
  },
  "language_info": {
   "codemirror_mode": {
    "name": "ipython",
    "version": 3
   },
   "file_extension": ".py",
   "mimetype": "text/x-python",
   "name": "python",
   "nbconvert_exporter": "python",
   "pygments_lexer": "ipython3",
   "version": "3.11.6"
  }
 },
 "nbformat": 4,
 "nbformat_minor": 5
}
