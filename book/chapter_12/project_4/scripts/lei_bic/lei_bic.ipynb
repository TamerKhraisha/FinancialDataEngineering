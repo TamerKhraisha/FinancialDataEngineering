{
 "cells": [
  {
   "cell_type": "markdown",
   "id": "8874c307-69dc-4ed3-9848-707c97a879f0",
   "metadata": {},
   "source": [
    "# Download and export BIC-to-LEI mapping data"
   ]
  },
  {
   "cell_type": "code",
   "execution_count": 1,
   "id": "520d580b-4a88-4315-8a25-e530d56e2654",
   "metadata": {},
   "outputs": [],
   "source": [
    "from lei_bic import download_and_extract_zip, bulk_insert_data"
   ]
  },
  {
   "cell_type": "markdown",
   "id": "e81976cb-1803-4ddb-8cc1-cef71038b65c",
   "metadata": {},
   "source": [
    "## Download LEI to ISIN mapping file\n",
    "\n",
    "Data source [here](https://www.gleif.org/en/lei-data/lei-mapping/download-bic-to-lei-relationship-files)"
   ]
  },
  {
   "cell_type": "markdown",
   "id": "81c4f705-82d3-420d-bd29-5d41d04dabbc",
   "metadata": {},
   "source": [
    "### Make the API request\n",
    "\n",
    "This method will download a file in the **../../data** directory."
   ]
  },
  {
   "cell_type": "code",
   "execution_count": 2,
   "id": "ed154b0f-107c-4e95-b970-0ac4ff2d5880",
   "metadata": {},
   "outputs": [
    {
     "name": "stdout",
     "output_type": "stream",
     "text": [
      "CSV file 'lei-bic-20240329T000000.csv' extracted successfully.\n"
     ]
    }
   ],
   "source": [
    "api_url = \"https://mapping.gleif.org/api/v2/bic-lei/165fb003-5254-498f-a3cd-6e7dfccb8075/download\"\n",
    "bic_to_lei_dataframe = download_and_extract_zip(api_url)"
   ]
  },
  {
   "cell_type": "markdown",
   "id": "af988c75-4a19-4412-a556-03687ff92c02",
   "metadata": {},
   "source": [
    "### Show a sample of the data"
   ]
  },
  {
   "cell_type": "code",
   "execution_count": 3,
   "id": "d3ac60b2-e9ed-4fb0-873f-28d098cb666c",
   "metadata": {},
   "outputs": [
    {
     "data": {
      "text/html": [
       "<div>\n",
       "<style scoped>\n",
       "    .dataframe tbody tr th:only-of-type {\n",
       "        vertical-align: middle;\n",
       "    }\n",
       "\n",
       "    .dataframe tbody tr th {\n",
       "        vertical-align: top;\n",
       "    }\n",
       "\n",
       "    .dataframe thead th {\n",
       "        text-align: right;\n",
       "    }\n",
       "</style>\n",
       "<table border=\"1\" class=\"dataframe\">\n",
       "  <thead>\n",
       "    <tr style=\"text-align: right;\">\n",
       "      <th></th>\n",
       "      <th>LEI</th>\n",
       "      <th>BIC</th>\n",
       "    </tr>\n",
       "  </thead>\n",
       "  <tbody>\n",
       "    <tr>\n",
       "      <th>0</th>\n",
       "      <td>01ERPZV3DOLNXY2MLB90</td>\n",
       "      <td>LBTCUS44XXX</td>\n",
       "    </tr>\n",
       "    <tr>\n",
       "      <th>1</th>\n",
       "      <td>01KWVG908KE7RKPTNP46</td>\n",
       "      <td>HOMSUS6SXXX</td>\n",
       "    </tr>\n",
       "    <tr>\n",
       "      <th>2</th>\n",
       "      <td>029200067A7K6CH0H586</td>\n",
       "      <td>CSCYNGLAXXX</td>\n",
       "    </tr>\n",
       "    <tr>\n",
       "      <th>3</th>\n",
       "      <td>0292001167H3Q0GH7D41</td>\n",
       "      <td>CSSKNGL1XXX</td>\n",
       "    </tr>\n",
       "    <tr>\n",
       "      <th>4</th>\n",
       "      <td>0292001381F1R1IB5B85</td>\n",
       "      <td>STIKNGL2XXX</td>\n",
       "    </tr>\n",
       "  </tbody>\n",
       "</table>\n",
       "</div>"
      ],
      "text/plain": [
       "                    LEI          BIC\n",
       "0  01ERPZV3DOLNXY2MLB90  LBTCUS44XXX\n",
       "1  01KWVG908KE7RKPTNP46  HOMSUS6SXXX\n",
       "2  029200067A7K6CH0H586  CSCYNGLAXXX\n",
       "3  0292001167H3Q0GH7D41  CSSKNGL1XXX\n",
       "4  0292001381F1R1IB5B85  STIKNGL2XXX"
      ]
     },
     "execution_count": 3,
     "metadata": {},
     "output_type": "execute_result"
    }
   ],
   "source": [
    "bic_to_lei_dataframe.head()"
   ]
  },
  {
   "cell_type": "markdown",
   "id": "7b5d57ec-e1bb-42d6-a80e-a211cb22de99",
   "metadata": {},
   "source": [
    "## Export data to database"
   ]
  },
  {
   "cell_type": "code",
   "execution_count": 4,
   "id": "01b96fae-afe2-4dbc-9911-fc5886503094",
   "metadata": {},
   "outputs": [
    {
     "name": "stdout",
     "output_type": "stream",
     "text": [
      "Successfully inserted 22361 rows into the database!\n"
     ]
    }
   ],
   "source": [
    "bulk_insert_data(bic_to_lei_dataframe)"
   ]
  }
 ],
 "metadata": {
  "kernelspec": {
   "display_name": "Python 3 (ipykernel)",
   "language": "python",
   "name": "python3"
  },
  "language_info": {
   "codemirror_mode": {
    "name": "ipython",
    "version": 3
   },
   "file_extension": ".py",
   "mimetype": "text/x-python",
   "name": "python",
   "nbconvert_exporter": "python",
   "pygments_lexer": "ipython3",
   "version": "3.11.6"
  }
 },
 "nbformat": 4,
 "nbformat_minor": 5
}
