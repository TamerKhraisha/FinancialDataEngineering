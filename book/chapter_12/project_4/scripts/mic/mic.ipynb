{
 "cells": [
  {
   "cell_type": "markdown",
   "id": "c4971360-241e-47bf-9611-d330032abf0e",
   "metadata": {},
   "source": [
    "# Download and export MIC codes"
   ]
  },
  {
   "cell_type": "code",
   "execution_count": 1,
   "id": "4531459f-5cd7-442b-9366-d58fab11b4d5",
   "metadata": {},
   "outputs": [],
   "source": [
    "from mic import get_mic_codes, insert_data_into_db"
   ]
  },
  {
   "cell_type": "markdown",
   "id": "dcd1ab33-7771-4160-8ba7-fdf46a0a10a0",
   "metadata": {},
   "source": [
    "# Extract the latest version of the data\n",
    "\n",
    "Data source [here](https://www.iso20022.org/market-identifier-codes)"
   ]
  },
  {
   "cell_type": "code",
   "execution_count": 2,
   "id": "6169bd91-9744-476c-9e47-7ab50f500b7e",
   "metadata": {},
   "outputs": [],
   "source": [
    "mic_df = get_mic_codes()"
   ]
  },
  {
   "cell_type": "markdown",
   "id": "754e326b-54cd-4729-8016-d5797371515b",
   "metadata": {},
   "source": [
    "### Display a sample of the data"
   ]
  },
  {
   "cell_type": "code",
   "execution_count": 3,
   "id": "5a14d5f6-2233-40a7-9bd8-39989c2bcb92",
   "metadata": {},
   "outputs": [
    {
     "data": {
      "text/html": [
       "<div>\n",
       "<style scoped>\n",
       "    .dataframe tbody tr th:only-of-type {\n",
       "        vertical-align: middle;\n",
       "    }\n",
       "\n",
       "    .dataframe tbody tr th {\n",
       "        vertical-align: top;\n",
       "    }\n",
       "\n",
       "    .dataframe thead th {\n",
       "        text-align: right;\n",
       "    }\n",
       "</style>\n",
       "<table border=\"1\" class=\"dataframe\">\n",
       "  <thead>\n",
       "    <tr style=\"text-align: right;\">\n",
       "      <th></th>\n",
       "      <th>mic</th>\n",
       "      <th>operating_mic</th>\n",
       "      <th>oprt_sgmt</th>\n",
       "      <th>market_name_institution_description</th>\n",
       "      <th>legal_entity_name</th>\n",
       "      <th>lei</th>\n",
       "      <th>market_category_code</th>\n",
       "      <th>acronym</th>\n",
       "      <th>iso_country_code</th>\n",
       "      <th>city</th>\n",
       "      <th>website</th>\n",
       "      <th>status</th>\n",
       "      <th>creation_date</th>\n",
       "      <th>last_update_date</th>\n",
       "      <th>last_validation_date</th>\n",
       "      <th>expiry_date</th>\n",
       "      <th>comments</th>\n",
       "    </tr>\n",
       "  </thead>\n",
       "  <tbody>\n",
       "    <tr>\n",
       "      <th>0</th>\n",
       "      <td>DRSP</td>\n",
       "      <td>DRSP</td>\n",
       "      <td>OPRT</td>\n",
       "      <td>EURONEXT  UK - REPORTING SERVICES</td>\n",
       "      <td>EURONEXT LONDON LIMITED</td>\n",
       "      <td>969500HMVSZ0TCV65D58</td>\n",
       "      <td>APPA</td>\n",
       "      <td>NaN</td>\n",
       "      <td>GB</td>\n",
       "      <td>LONDON</td>\n",
       "      <td>WWW.EURONEXT.COM</td>\n",
       "      <td>ACTIVE</td>\n",
       "      <td>2021-09-27</td>\n",
       "      <td>2021-09-27</td>\n",
       "      <td>2021-09-27</td>\n",
       "      <td>2100-01-01 00:00:00</td>\n",
       "      <td>APPROVED PUBLICATION ARRANGEMENT.</td>\n",
       "    </tr>\n",
       "    <tr>\n",
       "      <th>1</th>\n",
       "      <td>XCNQ</td>\n",
       "      <td>XCNQ</td>\n",
       "      <td>OPRT</td>\n",
       "      <td>CANADIAN SECURITIES EXCHANGE</td>\n",
       "      <td>CNSX MARKETS, INC.</td>\n",
       "      <td>NaN</td>\n",
       "      <td>RMKT</td>\n",
       "      <td>CSE LISTED</td>\n",
       "      <td>CA</td>\n",
       "      <td>TORONTO</td>\n",
       "      <td>WWW.THECSE.COM</td>\n",
       "      <td>ACTIVE</td>\n",
       "      <td>2009-04-27</td>\n",
       "      <td>2021-09-27</td>\n",
       "      <td>2021-09-27</td>\n",
       "      <td>2100-01-01 00:00:00</td>\n",
       "      <td>FORMERLY KNOWN AS PURE (CSE OTHER LISTED) FORM...</td>\n",
       "    </tr>\n",
       "    <tr>\n",
       "      <th>2</th>\n",
       "      <td>PURE</td>\n",
       "      <td>XCNQ</td>\n",
       "      <td>SGMT</td>\n",
       "      <td>CANADIAN SECURITIES EXCHANGE - PURE</td>\n",
       "      <td>CNSX MARKETS, INC.</td>\n",
       "      <td>NaN</td>\n",
       "      <td>NSPD</td>\n",
       "      <td>CSE-PURE</td>\n",
       "      <td>CA</td>\n",
       "      <td>TORONTO</td>\n",
       "      <td>WWW.THECSE.COM</td>\n",
       "      <td>ACTIVE</td>\n",
       "      <td>2006-12-25</td>\n",
       "      <td>2021-09-27</td>\n",
       "      <td>2021-09-27</td>\n",
       "      <td>2100-01-01 00:00:00</td>\n",
       "      <td>FORMERLY KNOWN AS PURE (CSE OTHER LISTED) FORM...</td>\n",
       "    </tr>\n",
       "    <tr>\n",
       "      <th>3</th>\n",
       "      <td>ZODM</td>\n",
       "      <td>ZODM</td>\n",
       "      <td>OPRT</td>\n",
       "      <td>ZODIA MARKETS</td>\n",
       "      <td>ZODIA MARKETS HOLDINGS LIMITED</td>\n",
       "      <td>5493006GZOHISU7JTC27</td>\n",
       "      <td>NSPD</td>\n",
       "      <td>NaN</td>\n",
       "      <td>GB</td>\n",
       "      <td>LONDON</td>\n",
       "      <td>WWW.ZODIA-MARKETS.COM</td>\n",
       "      <td>ACTIVE</td>\n",
       "      <td>2021-09-27</td>\n",
       "      <td>2021-09-27</td>\n",
       "      <td>2021-09-27</td>\n",
       "      <td>2100-01-01 00:00:00</td>\n",
       "      <td>CRYPTOASSET BROKERAGE AND EXCHANGE.</td>\n",
       "    </tr>\n",
       "    <tr>\n",
       "      <th>4</th>\n",
       "      <td>FNFX</td>\n",
       "      <td>BGCF</td>\n",
       "      <td>SGMT</td>\n",
       "      <td>FENICS FX ECN</td>\n",
       "      <td>FENICS FX, LLC</td>\n",
       "      <td>549300I0NONVB9S5DZ56</td>\n",
       "      <td>NSPD</td>\n",
       "      <td>NaN</td>\n",
       "      <td>US</td>\n",
       "      <td>NEW YORK</td>\n",
       "      <td>WWW.FENICSFX.COM</td>\n",
       "      <td>ACTIVE</td>\n",
       "      <td>2021-09-27</td>\n",
       "      <td>2021-09-27</td>\n",
       "      <td>2021-09-27</td>\n",
       "      <td>2100-01-01 00:00:00</td>\n",
       "      <td>ELECTRONIC COMMUNICATIONS NETWORK.</td>\n",
       "    </tr>\n",
       "  </tbody>\n",
       "</table>\n",
       "</div>"
      ],
      "text/plain": [
       "    mic operating_mic oprt_sgmt  market_name_institution_description  \\\n",
       "0  DRSP          DRSP      OPRT    EURONEXT  UK - REPORTING SERVICES   \n",
       "1  XCNQ          XCNQ      OPRT         CANADIAN SECURITIES EXCHANGE   \n",
       "2  PURE          XCNQ      SGMT  CANADIAN SECURITIES EXCHANGE - PURE   \n",
       "3  ZODM          ZODM      OPRT                        ZODIA MARKETS   \n",
       "4  FNFX          BGCF      SGMT                        FENICS FX ECN   \n",
       "\n",
       "                legal_entity_name                   lei market_category_code  \\\n",
       "0         EURONEXT LONDON LIMITED  969500HMVSZ0TCV65D58                 APPA   \n",
       "1              CNSX MARKETS, INC.                   NaN                 RMKT   \n",
       "2              CNSX MARKETS, INC.                   NaN                 NSPD   \n",
       "3  ZODIA MARKETS HOLDINGS LIMITED  5493006GZOHISU7JTC27                 NSPD   \n",
       "4                  FENICS FX, LLC  549300I0NONVB9S5DZ56                 NSPD   \n",
       "\n",
       "      acronym iso_country_code      city                website  status  \\\n",
       "0         NaN               GB    LONDON       WWW.EURONEXT.COM  ACTIVE   \n",
       "1  CSE LISTED               CA   TORONTO         WWW.THECSE.COM  ACTIVE   \n",
       "2    CSE-PURE               CA   TORONTO         WWW.THECSE.COM  ACTIVE   \n",
       "3         NaN               GB    LONDON  WWW.ZODIA-MARKETS.COM  ACTIVE   \n",
       "4         NaN               US  NEW YORK       WWW.FENICSFX.COM  ACTIVE   \n",
       "\n",
       "  creation_date last_update_date last_validation_date          expiry_date  \\\n",
       "0    2021-09-27       2021-09-27           2021-09-27  2100-01-01 00:00:00   \n",
       "1    2009-04-27       2021-09-27           2021-09-27  2100-01-01 00:00:00   \n",
       "2    2006-12-25       2021-09-27           2021-09-27  2100-01-01 00:00:00   \n",
       "3    2021-09-27       2021-09-27           2021-09-27  2100-01-01 00:00:00   \n",
       "4    2021-09-27       2021-09-27           2021-09-27  2100-01-01 00:00:00   \n",
       "\n",
       "                                            comments  \n",
       "0                  APPROVED PUBLICATION ARRANGEMENT.  \n",
       "1  FORMERLY KNOWN AS PURE (CSE OTHER LISTED) FORM...  \n",
       "2  FORMERLY KNOWN AS PURE (CSE OTHER LISTED) FORM...  \n",
       "3                CRYPTOASSET BROKERAGE AND EXCHANGE.  \n",
       "4                 ELECTRONIC COMMUNICATIONS NETWORK.  "
      ]
     },
     "execution_count": 3,
     "metadata": {},
     "output_type": "execute_result"
    }
   ],
   "source": [
    "mic_df.head()"
   ]
  },
  {
   "cell_type": "markdown",
   "id": "0839fc52-ed47-4bca-8d49-c36d320ecd6a",
   "metadata": {},
   "source": [
    "### Insert the data into the database"
   ]
  },
  {
   "cell_type": "code",
   "execution_count": 4,
   "id": "d6e9d506-1433-4f4c-bb5f-661c0cfdd915",
   "metadata": {},
   "outputs": [
    {
     "name": "stdout",
     "output_type": "stream",
     "text": [
      "Successfully inserted 2656 rows into the 'mic' table!\n"
     ]
    }
   ],
   "source": [
    "insert_data_into_db(df=mic_df)"
   ]
  }
 ],
 "metadata": {
  "kernelspec": {
   "display_name": "Python 3 (ipykernel)",
   "language": "python",
   "name": "python3"
  },
  "language_info": {
   "codemirror_mode": {
    "name": "ipython",
    "version": 3
   },
   "file_extension": ".py",
   "mimetype": "text/x-python",
   "name": "python",
   "nbconvert_exporter": "python",
   "pygments_lexer": "ipython3",
   "version": "3.11.6"
  }
 },
 "nbformat": 4,
 "nbformat_minor": 5
}
