{
 "cells": [
  {
   "cell_type": "markdown",
   "id": "d3e09762-e8f7-4743-91d4-3c5698ce0d02",
   "metadata": {},
   "source": [
    "# Download and export  ISO 3166 Country Codes"
   ]
  },
  {
   "cell_type": "code",
   "execution_count": 1,
   "id": "15bd7353-093e-4a5e-83af-bbc783b76c9d",
   "metadata": {},
   "outputs": [],
   "source": [
    "from country import fetch_countries_data, insert_data_into_db"
   ]
  },
  {
   "cell_type": "markdown",
   "id": "e2bbfa6a-aa5e-4a14-a9c6-64bae95c6993",
   "metadata": {},
   "source": [
    "###  Make the API request\n",
    "\n",
    " API documentation available [here](https://documenter.getpostman.com/view/7679680/SVYrrxuU?version=latest#74a7051b-3963-41b3-bd81-2be6fa2a6598)"
   ]
  },
  {
   "cell_type": "code",
   "execution_count": 2,
   "id": "c5975d36-8dc2-4517-b92e-2d37f61b1582",
   "metadata": {},
   "outputs": [],
   "source": [
    "api_url = \"https://api.gleif.org/api/v1/countries?page[size]=300&page[number]=1\"\n",
    "countries_dataframe = fetch_countries_data(api_url)"
   ]
  },
  {
   "cell_type": "markdown",
   "id": "2aef91fe-62b0-42a2-baf4-103ad8c422f2",
   "metadata": {},
   "source": [
    "### Show sample data"
   ]
  },
  {
   "cell_type": "code",
   "execution_count": 3,
   "id": "b936b475-4b56-40d3-acab-baa31660e588",
   "metadata": {},
   "outputs": [
    {
     "data": {
      "text/html": [
       "<div>\n",
       "<style scoped>\n",
       "    .dataframe tbody tr th:only-of-type {\n",
       "        vertical-align: middle;\n",
       "    }\n",
       "\n",
       "    .dataframe tbody tr th {\n",
       "        vertical-align: top;\n",
       "    }\n",
       "\n",
       "    .dataframe thead th {\n",
       "        text-align: right;\n",
       "    }\n",
       "</style>\n",
       "<table border=\"1\" class=\"dataframe\">\n",
       "  <thead>\n",
       "    <tr style=\"text-align: right;\">\n",
       "      <th></th>\n",
       "      <th>code</th>\n",
       "      <th>name</th>\n",
       "    </tr>\n",
       "  </thead>\n",
       "  <tbody>\n",
       "    <tr>\n",
       "      <th>0</th>\n",
       "      <td>AD</td>\n",
       "      <td>Andorra</td>\n",
       "    </tr>\n",
       "    <tr>\n",
       "      <th>1</th>\n",
       "      <td>AE</td>\n",
       "      <td>United Arab Emirates (the)</td>\n",
       "    </tr>\n",
       "    <tr>\n",
       "      <th>2</th>\n",
       "      <td>AF</td>\n",
       "      <td>Afghanistan</td>\n",
       "    </tr>\n",
       "    <tr>\n",
       "      <th>3</th>\n",
       "      <td>AG</td>\n",
       "      <td>Antigua and Barbuda</td>\n",
       "    </tr>\n",
       "    <tr>\n",
       "      <th>4</th>\n",
       "      <td>AI</td>\n",
       "      <td>Anguilla</td>\n",
       "    </tr>\n",
       "  </tbody>\n",
       "</table>\n",
       "</div>"
      ],
      "text/plain": [
       "  code                        name\n",
       "0   AD                     Andorra\n",
       "1   AE  United Arab Emirates (the)\n",
       "2   AF                 Afghanistan\n",
       "3   AG         Antigua and Barbuda\n",
       "4   AI                    Anguilla"
      ]
     },
     "execution_count": 3,
     "metadata": {},
     "output_type": "execute_result"
    }
   ],
   "source": [
    "countries_dataframe.head()"
   ]
  },
  {
   "cell_type": "markdown",
   "id": "8ecb1731-2514-4aa5-aea9-e3d486c7445c",
   "metadata": {},
   "source": [
    "### Insert the data into the database"
   ]
  },
  {
   "cell_type": "code",
   "execution_count": 4,
   "id": "29cfd59c-178d-4cb6-91b1-091e14c45086",
   "metadata": {},
   "outputs": [
    {
     "name": "stdout",
     "output_type": "stream",
     "text": [
      "Successfully inserted 250 rows into the 'country' table.\n"
     ]
    }
   ],
   "source": [
    "insert_data_into_db(countries_dataframe)"
   ]
  }
 ],
 "metadata": {
  "kernelspec": {
   "display_name": "Python 3 (ipykernel)",
   "language": "python",
   "name": "python3"
  },
  "language_info": {
   "codemirror_mode": {
    "name": "ipython",
    "version": 3
   },
   "file_extension": ".py",
   "mimetype": "text/x-python",
   "name": "python",
   "nbconvert_exporter": "python",
   "pygments_lexer": "ipython3",
   "version": "3.11.6"
  }
 },
 "nbformat": 4,
 "nbformat_minor": 5
}
