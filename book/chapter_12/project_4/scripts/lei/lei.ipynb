{
 "cells": [
  {
   "cell_type": "markdown",
   "id": "ae4cb984-c019-4544-8270-f6169fadf3ee",
   "metadata": {},
   "source": [
    "# Download and export a sample of LEI identifiers"
   ]
  },
  {
   "cell_type": "code",
   "execution_count": 1,
   "id": "ba0fe157-cecb-4af3-a9da-af571fef52c5",
   "metadata": {},
   "outputs": [],
   "source": [
    "from lei import parse_lei_records, fetch_lei_records, insert_data_into_db"
   ]
  },
  {
   "cell_type": "markdown",
   "id": "20c37473-eef8-432f-8880-0fccf61b1381",
   "metadata": {},
   "source": [
    "### Fetch the first 10 pages from the API (each page contains 200 LEIs)\n",
    "\n",
    "For details on the API functionality, check the official [documentation](https://documenter.getpostman.com/view/7679680/SVYrrxuU?version=latest#b9cccb8a-e065-4708-973d-1396ff419d0c)"
   ]
  },
  {
   "cell_type": "code",
   "execution_count": 2,
   "id": "d4ade570-ce8e-4a51-bbce-1746cd593e11",
   "metadata": {},
   "outputs": [],
   "source": [
    "lei_records = []\n",
    "for page in range(1,11):\n",
    "    lei_records.extend(fetch_lei_records(page_number=page))"
   ]
  },
  {
   "cell_type": "markdown",
   "id": "0edf3ae2-a666-4f53-b307-66938ec3f76d",
   "metadata": {},
   "source": [
    "### Parse the JSON data into a DataFrame"
   ]
  },
  {
   "cell_type": "code",
   "execution_count": 3,
   "id": "b73679f7-e41a-4cea-917a-2578d538f1a8",
   "metadata": {},
   "outputs": [
    {
     "data": {
      "text/html": [
       "<div>\n",
       "<style scoped>\n",
       "    .dataframe tbody tr th:only-of-type {\n",
       "        vertical-align: middle;\n",
       "    }\n",
       "\n",
       "    .dataframe tbody tr th {\n",
       "        vertical-align: top;\n",
       "    }\n",
       "\n",
       "    .dataframe thead th {\n",
       "        text-align: right;\n",
       "    }\n",
       "</style>\n",
       "<table border=\"1\" class=\"dataframe\">\n",
       "  <thead>\n",
       "    <tr style=\"text-align: right;\">\n",
       "      <th></th>\n",
       "      <th>lei</th>\n",
       "      <th>legal_name</th>\n",
       "      <th>jurisdiction</th>\n",
       "      <th>category</th>\n",
       "      <th>status</th>\n",
       "      <th>legal_form_id</th>\n",
       "      <th>legal_address_city</th>\n",
       "      <th>legal_address_country</th>\n",
       "      <th>legal_address_postal_code</th>\n",
       "      <th>headquarters_city</th>\n",
       "      <th>headquarters_country</th>\n",
       "      <th>headquarters_postal_code</th>\n",
       "    </tr>\n",
       "  </thead>\n",
       "  <tbody>\n",
       "    <tr>\n",
       "      <th>0</th>\n",
       "      <td>984500C1FAC76C888735</td>\n",
       "      <td>E-STOCK SRL</td>\n",
       "      <td>IT</td>\n",
       "      <td>GENERAL</td>\n",
       "      <td>ACTIVE</td>\n",
       "      <td>OV32</td>\n",
       "      <td>RESANA</td>\n",
       "      <td>IT</td>\n",
       "      <td>31023</td>\n",
       "      <td>RESANA</td>\n",
       "      <td>IT</td>\n",
       "      <td>31023</td>\n",
       "    </tr>\n",
       "    <tr>\n",
       "      <th>1</th>\n",
       "      <td>98450063C4ND8D136G79</td>\n",
       "      <td>BROADSTREET INC.</td>\n",
       "      <td>US-DE</td>\n",
       "      <td>GENERAL</td>\n",
       "      <td>ACTIVE</td>\n",
       "      <td>XTIQ</td>\n",
       "      <td>WILMINGTON</td>\n",
       "      <td>US</td>\n",
       "      <td>19808</td>\n",
       "      <td>Greenville</td>\n",
       "      <td>US</td>\n",
       "      <td>29601</td>\n",
       "    </tr>\n",
       "    <tr>\n",
       "      <th>2</th>\n",
       "      <td>984500EE88BC4D75D081</td>\n",
       "      <td>FORKLIFT NETWORK SG PTE. LTD.</td>\n",
       "      <td>SG</td>\n",
       "      <td>GENERAL</td>\n",
       "      <td>ACTIVE</td>\n",
       "      <td>LWXI</td>\n",
       "      <td>Singapore</td>\n",
       "      <td>SG</td>\n",
       "      <td>637434</td>\n",
       "      <td>Singapore</td>\n",
       "      <td>SG</td>\n",
       "      <td>637434</td>\n",
       "    </tr>\n",
       "    <tr>\n",
       "      <th>3</th>\n",
       "      <td>984500E5EB0B4CF37574</td>\n",
       "      <td>SHREEJI CHIKKI AND SNACKS</td>\n",
       "      <td>IN</td>\n",
       "      <td>GENERAL</td>\n",
       "      <td>ACTIVE</td>\n",
       "      <td>A0PS</td>\n",
       "      <td>Nagpur</td>\n",
       "      <td>IN</td>\n",
       "      <td>442701</td>\n",
       "      <td>Nagpur</td>\n",
       "      <td>IN</td>\n",
       "      <td>442701</td>\n",
       "    </tr>\n",
       "    <tr>\n",
       "      <th>4</th>\n",
       "      <td>98450058FD003FDR3A48</td>\n",
       "      <td>VEDANT TRADELINK PRIVATE LIMITED</td>\n",
       "      <td>IN</td>\n",
       "      <td>GENERAL</td>\n",
       "      <td>ACTIVE</td>\n",
       "      <td>YSP9</td>\n",
       "      <td>AHMEDABAD</td>\n",
       "      <td>IN</td>\n",
       "      <td>380007</td>\n",
       "      <td>AHMEDABAD</td>\n",
       "      <td>IN</td>\n",
       "      <td>380007</td>\n",
       "    </tr>\n",
       "  </tbody>\n",
       "</table>\n",
       "</div>"
      ],
      "text/plain": [
       "                    lei                        legal_name jurisdiction  \\\n",
       "0  984500C1FAC76C888735                       E-STOCK SRL           IT   \n",
       "1  98450063C4ND8D136G79                  BROADSTREET INC.        US-DE   \n",
       "2  984500EE88BC4D75D081     FORKLIFT NETWORK SG PTE. LTD.           SG   \n",
       "3  984500E5EB0B4CF37574         SHREEJI CHIKKI AND SNACKS           IN   \n",
       "4  98450058FD003FDR3A48  VEDANT TRADELINK PRIVATE LIMITED           IN   \n",
       "\n",
       "  category  status legal_form_id legal_address_city legal_address_country  \\\n",
       "0  GENERAL  ACTIVE          OV32             RESANA                    IT   \n",
       "1  GENERAL  ACTIVE          XTIQ         WILMINGTON                    US   \n",
       "2  GENERAL  ACTIVE          LWXI          Singapore                    SG   \n",
       "3  GENERAL  ACTIVE          A0PS             Nagpur                    IN   \n",
       "4  GENERAL  ACTIVE          YSP9          AHMEDABAD                    IN   \n",
       "\n",
       "  legal_address_postal_code headquarters_city headquarters_country  \\\n",
       "0                     31023            RESANA                   IT   \n",
       "1                     19808        Greenville                   US   \n",
       "2                    637434         Singapore                   SG   \n",
       "3                    442701            Nagpur                   IN   \n",
       "4                    380007         AHMEDABAD                   IN   \n",
       "\n",
       "  headquarters_postal_code  \n",
       "0                    31023  \n",
       "1                    29601  \n",
       "2                   637434  \n",
       "3                   442701  \n",
       "4                   380007  "
      ]
     },
     "execution_count": 3,
     "metadata": {},
     "output_type": "execute_result"
    }
   ],
   "source": [
    "df = parse_lei_records(lei_records)\n",
    "df.head()"
   ]
  },
  {
   "cell_type": "markdown",
   "id": "39ea87f2-bdc5-4335-9f7f-9b846a676f42",
   "metadata": {},
   "source": [
    "### Insert data into the database"
   ]
  },
  {
   "cell_type": "code",
   "execution_count": 4,
   "id": "342909e2-a962-4d2f-b9b9-2ac8fbf843e3",
   "metadata": {},
   "outputs": [
    {
     "name": "stdout",
     "output_type": "stream",
     "text": [
      "Successfully inserted 2000 rows into the 'lei' table!\n"
     ]
    }
   ],
   "source": [
    "insert_data_into_db(df)"
   ]
  }
 ],
 "metadata": {
  "kernelspec": {
   "display_name": "Python 3 (ipykernel)",
   "language": "python",
   "name": "python3"
  },
  "language_info": {
   "codemirror_mode": {
    "name": "ipython",
    "version": 3
   },
   "file_extension": ".py",
   "mimetype": "text/x-python",
   "name": "python",
   "nbconvert_exporter": "python",
   "pygments_lexer": "ipython3",
   "version": "3.11.6"
  }
 },
 "nbformat": 4,
 "nbformat_minor": 5
}
