{
 "cells": [
  {
   "cell_type": "markdown",
   "id": "d2d3ea56-0b40-48ed-898f-debaa0ad0bf5",
   "metadata": {},
   "source": [
    "# Download and export LEI-ISIN mapping data"
   ]
  },
  {
   "cell_type": "code",
   "execution_count": 1,
   "id": "2bb612c3-cc18-4a7b-9f1b-c0093f78a876",
   "metadata": {},
   "outputs": [],
   "source": [
    "from lei_isin import download_and_extract_zip, bulk_insert_data"
   ]
  },
  {
   "cell_type": "markdown",
   "id": "3c4d57a8-39d8-496f-8830-0f252efec728",
   "metadata": {},
   "source": [
    "### Download LEI to ISIN mapping file"
   ]
  },
  {
   "cell_type": "markdown",
   "id": "f08dd44c-6a6c-4640-8fb1-62806f3a7a97",
   "metadata": {},
   "source": [
    "Source of the data [here](https://www.gleif.org/en/lei-data/lei-mapping/download-isin-to-lei-relationship-files)\n",
    "\n",
    "This will download a file in the **../../data** directory"
   ]
  },
  {
   "cell_type": "markdown",
   "id": "775ea52e-b615-408e-a28c-d05794a32d4a",
   "metadata": {},
   "source": [
    "### Make the API request"
   ]
  },
  {
   "cell_type": "code",
   "execution_count": 2,
   "id": "9d2bf412-4aa5-4104-be59-f6dcb7366686",
   "metadata": {},
   "outputs": [
    {
     "name": "stdout",
     "output_type": "stream",
     "text": [
      "CSV file 'lei-isin-20240416T070219.csv' extracted successfully.\n"
     ]
    }
   ],
   "source": [
    "api_url = \"https://mapping.gleif.org/api/v2/isin-lei/b9d9d56f-19c6-4252-b0b5-f03e3e985aee/download\"\n",
    "isin_to_lei_dataframe = download_and_extract_zip(api_url)"
   ]
  },
  {
   "cell_type": "markdown",
   "id": "2f1b8a81-0ea2-4ae7-8f5e-1e8ca6f1f0d1",
   "metadata": {},
   "source": [
    "### Show sample data"
   ]
  },
  {
   "cell_type": "code",
   "execution_count": 3,
   "id": "e02e54a0-dd34-4080-b13b-f1d5098f11e5",
   "metadata": {},
   "outputs": [
    {
     "data": {
      "text/html": [
       "<div>\n",
       "<style scoped>\n",
       "    .dataframe tbody tr th:only-of-type {\n",
       "        vertical-align: middle;\n",
       "    }\n",
       "\n",
       "    .dataframe tbody tr th {\n",
       "        vertical-align: top;\n",
       "    }\n",
       "\n",
       "    .dataframe thead th {\n",
       "        text-align: right;\n",
       "    }\n",
       "</style>\n",
       "<table border=\"1\" class=\"dataframe\">\n",
       "  <thead>\n",
       "    <tr style=\"text-align: right;\">\n",
       "      <th></th>\n",
       "      <th>LEI</th>\n",
       "      <th>ISIN</th>\n",
       "    </tr>\n",
       "  </thead>\n",
       "  <tbody>\n",
       "    <tr>\n",
       "      <th>0</th>\n",
       "      <td>001GPB6A9XPE8XJICC14</td>\n",
       "      <td>US3158052262</td>\n",
       "    </tr>\n",
       "    <tr>\n",
       "      <th>1</th>\n",
       "      <td>00EHHQ2ZHDCFXJCPCL46</td>\n",
       "      <td>US92204Q1031</td>\n",
       "    </tr>\n",
       "    <tr>\n",
       "      <th>2</th>\n",
       "      <td>00KLB2PFTM3060S2N216</td>\n",
       "      <td>US4138382027</td>\n",
       "    </tr>\n",
       "    <tr>\n",
       "      <th>3</th>\n",
       "      <td>00KLB2PFTM3060S2N216</td>\n",
       "      <td>US4138385749</td>\n",
       "    </tr>\n",
       "    <tr>\n",
       "      <th>4</th>\n",
       "      <td>01ERPZV3DOLNXY2MLB90</td>\n",
       "      <td>US531554AA10</td>\n",
       "    </tr>\n",
       "  </tbody>\n",
       "</table>\n",
       "</div>"
      ],
      "text/plain": [
       "                    LEI          ISIN\n",
       "0  001GPB6A9XPE8XJICC14  US3158052262\n",
       "1  00EHHQ2ZHDCFXJCPCL46  US92204Q1031\n",
       "2  00KLB2PFTM3060S2N216  US4138382027\n",
       "3  00KLB2PFTM3060S2N216  US4138385749\n",
       "4  01ERPZV3DOLNXY2MLB90  US531554AA10"
      ]
     },
     "execution_count": 3,
     "metadata": {},
     "output_type": "execute_result"
    }
   ],
   "source": [
    "isin_to_lei_dataframe.head()"
   ]
  },
  {
   "cell_type": "markdown",
   "id": "f58c6bf1-87ca-45ea-b94a-478ce9b068dd",
   "metadata": {},
   "source": [
    "### Export data to database"
   ]
  },
  {
   "cell_type": "code",
   "execution_count": 4,
   "id": "08b5069f-7571-4a01-82a8-3d407c5f79be",
   "metadata": {},
   "outputs": [
    {
     "name": "stdout",
     "output_type": "stream",
     "text": [
      "Successfully inserted 7362559 rows into the 'lei_isin' table!\n"
     ]
    }
   ],
   "source": [
    "bulk_insert_data(isin_to_lei_dataframe)"
   ]
  }
 ],
 "metadata": {
  "kernelspec": {
   "display_name": "Python 3 (ipykernel)",
   "language": "python",
   "name": "python3"
  },
  "language_info": {
   "codemirror_mode": {
    "name": "ipython",
    "version": 3
   },
   "file_extension": ".py",
   "mimetype": "text/x-python",
   "name": "python",
   "nbconvert_exporter": "python",
   "pygments_lexer": "ipython3",
   "version": "3.11.6"
  }
 },
 "nbformat": 4,
 "nbformat_minor": 5
}
