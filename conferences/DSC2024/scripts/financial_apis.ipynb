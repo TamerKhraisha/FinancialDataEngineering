{
 "cells": [
  {
   "cell_type": "markdown",
   "id": "25654d39-4389-4577-854f-734d1a8e0429",
   "metadata": {},
   "source": [
    "# Financial Data APIs: A Step-by-Step Guide to Financial Data Collection and Integration"
   ]
  },
  {
   "cell_type": "markdown",
   "id": "12988b7a-6252-47b0-ae37-10ba03e8109a",
   "metadata": {},
   "source": [
    "### Introduction\n",
    "\n",
    "#### What Are Financial Data APIs?\n",
    "\n",
    "Financial data APIs (Application Programming Interfaces) are tools that allow software applications to access and use financial information from different sources. Imagine they are like bridges that let different systems communicate and share data about things like stock prices, currency exchange rates, company financials, or market trends. These APIs help businesses, developers, and even individuals get up-to-date financial data without needing to manually look up or collect it themselves.\n",
    "\n",
    "#### Why Do We Use Financial Data APIs?\n",
    "\n",
    "1. **Instant Access to Data**: Instead of manually searching for financial information or waiting for reports to be published, financial data APIs provide real-time access to up-to-date data at the click of a button. This makes it easy to get the information you need quickly, without delays.\n",
    "\n",
    "2. **Automation and Efficiency**: Financial data APIs enable you to automate the process of retrieving and updating financial data. For example, a business can automatically pull the latest stock prices or currency exchange rates without needing a person to check them every day. This saves time and reduces human error.\n",
    "\n",
    "3. **Accuracy and Reliability**: By connecting to trusted, authoritative data sources, APIs ensure that the financial information you're using is accurate and reliable.\n",
    "\n",
    "4. **Seamless Integration**: Financial data APIs allow different software systems to communicate with each other and integrate easily. For example, a financial management tool can use APIs to fetch market data, track investments, or manage transactions from a variety of sources—all in one place.\n",
    "\n",
    "\n",
    "### Tutorial overview\n",
    "\n",
    "In this tutorial, you will be interacting with five different financial data APIs which are either free to use or have a free version. These are:\n",
    "\n",
    "- OpenFIGI\n",
    "- PermID\n",
    "- GLEIF\n",
    "- AlphaVantage\n",
    "- FinancialModelingPrep\n",
    "\n",
    "The main data problem that we will be resolving in this tutorial concerns the collection and aggregation of financial identifier data (aka reference data), market data, and fundamental data for a handful of financial stocks.\n",
    "\n",
    "In finance, identifying a financial instrument such as a stock, bond, or derivative may appear simple. However, a single asset can be associated with multiple identifiers, depending on the system, region, or intended use. See the image below to have an idea of the vast financial identifier landscape\n",
    "\n",
    "<img src=\"https://github.com/TamerKhraisha/FinancialDataEngineering/blob/main/conferences/DSC2024/images/financial_identifiers_landscape.png?raw=true\" alt=\"image info\" width=\"600\">\n",
    "\n",
    "Moreover, these identifiers vary in their level of detail, scope, accessibility, availability, and popularity.\n",
    "\n",
    "Additionally, information such as the company name, industry sector, financial instrument category, as well as fundamental and market data like prices and revenue figures, may be required for comprehensive financial identification.\n",
    "\n",
    "This creates a challenges: data using different financial identifiers cannot be easily matched. \n",
    "\n",
    "Fortunately, this issue is well-recognized, and financial markets have been working to address it. Various initiatives have been introduced, such as the ISO establishing a dedicated committee to oversee the creation of reference data standards. Bloomberg launched OpenFigi, and LSEG (formerly Refinitiv) introduced PermID, essentially open-sourcing their proprietary identifiers.\n",
    "\n",
    "Let's get started!"
   ]
  },
  {
   "cell_type": "markdown",
   "id": "6c7d7db2-e275-45d5-b249-d53019ae46b2",
   "metadata": {},
   "source": [
    "### Before you start: make sure you have the required API keys\n",
    "\n",
    "Consult the README file of this project to see how to get your free API keys for AlphaVantage, FinancialModelingPrep, and PermID. One you have the keys, assign them to the variables below"
   ]
  },
  {
   "cell_type": "code",
   "execution_count": 117,
   "id": "c2696789-ff9f-4512-9681-57746dd108f7",
   "metadata": {},
   "outputs": [],
   "source": [
    "alphavantage_api_key = \"\" \n",
    "financialmodelingprep_api_key = \"\"\n",
    "permid_api_key = \"\""
   ]
  },
  {
   "cell_type": "markdown",
   "id": "0634775f-a19c-4eae-af51-d64aa71e69ac",
   "metadata": {},
   "source": [
    "### Package installation\n",
    "As usual, let's start with importing the necessary packages for this tutorial"
   ]
  },
  {
   "cell_type": "code",
   "execution_count": 118,
   "id": "a7a6d86b-d498-4534-91a1-6b5239354822",
   "metadata": {},
   "outputs": [],
   "source": [
    "import pandas as pd\n",
    "import json\n",
    "import os\n",
    "import urllib\n",
    "import pprint\n",
    "import requests\n",
    "import io"
   ]
  },
  {
   "cell_type": "markdown",
   "id": "d0675775-6ac1-480e-a81e-2e3a6e20c817",
   "metadata": {},
   "source": [
    "### Initial data"
   ]
  },
  {
   "cell_type": "markdown",
   "id": "a44368d7-b963-43ac-b637-2b149b8ed37e",
   "metadata": {},
   "source": [
    "Our initial data consists of the ticker symbols for the following five companies:\n",
    "- Apple Inc. (AAPL)\n",
    "- Microsoft Corporation (MSFT)\n",
    "- Alphabet Inc. (GOOGL)\n",
    "- Amazon.com, Inc. (AMZN)\n",
    "- NVIDIA Corporation (NVDA)"
   ]
  },
  {
   "cell_type": "code",
   "execution_count": 119,
   "id": "7c12c4f5-950a-4796-a96f-28a65091ae79",
   "metadata": {},
   "outputs": [],
   "source": [
    "tickers = [\"AAPL\", \"MSFT\", \"GOOGL\", \"AMZN\", \"NVDA\"]"
   ]
  },
  {
   "cell_type": "markdown",
   "id": "abcc0f8f-9e54-4d91-a017-0ff684a0890b",
   "metadata": {},
   "source": [
    "### Get FIGI identifiers\n",
    "\n",
    "A FIGI (Financial Instrument Global Identifier) is a unique identifier assigned to financial instruments like stocks, bonds, derivatives, loans, funds, and others. It is used globally to identify instruments across markets and data systems. FIGIs are available at three levels:\n",
    "\n",
    "- **Global Share Class Level**: Identifies a financial instrument at the share class level, meaning that all shares of the same class, regardless of where or how they are traded, share the same FIGI.\n",
    "\n",
    "- **Country Composite Level**: Identifies a financial instrument as it is traded within a specific country, regardless of which exchange or venue within that country it is traded on.\n",
    "\n",
    "- **Exchange/Venue Level**: Identifies the specific financial instrument as traded on a particular exchange or trading venue.\n",
    "\n",
    "\n",
    "![image info](https://www.openfigi.com/assets/images/figi-tree-1fbb8484e1.png)\n",
    "\n",
    "For details on openFIGI API, see the official [webpage](https://www.openfigi.com/api)"
   ]
  },
  {
   "cell_type": "code",
   "execution_count": 120,
   "id": "34f1e9d1-bea7-49fa-94a5-b1da95f3d6ad",
   "metadata": {},
   "outputs": [],
   "source": [
    "mic_code = 'XNYS' # We want identifiers for the New York Stock Exchange market\n",
    "id_type = 'TICKER' # We are submitting tickers for which we want the FIGI identifiers"
   ]
  },
  {
   "cell_type": "markdown",
   "id": "711b3bb6-f311-4c59-b1c0-8bb3ff21d96b",
   "metadata": {},
   "source": [
    "For details on exchange codes and their meanings, see the downlaodable file called Exchange Codes in this [page](https://www.openfigi.com/about/figi)."
   ]
  },
  {
   "cell_type": "code",
   "execution_count": 121,
   "id": "49e13632-277f-4a6e-b4ca-71155fc68032",
   "metadata": {},
   "outputs": [],
   "source": [
    "jobs = [ {'idType': id_type, 'idValue': ticker, 'micCode': mic_code} for ticker in tickers ]"
   ]
  },
  {
   "cell_type": "code",
   "execution_count": 122,
   "id": "9167f3a2-c0b4-41ea-93e1-39ce095e0428",
   "metadata": {},
   "outputs": [
    {
     "name": "stdout",
     "output_type": "stream",
     "text": [
      "[{'idType': 'TICKER', 'idValue': 'AAPL', 'micCode': 'XNYS'},\n",
      " {'idType': 'TICKER', 'idValue': 'MSFT', 'micCode': 'XNYS'}]\n"
     ]
    }
   ],
   "source": [
    "pprint.pprint(jobs)"
   ]
  },
  {
   "cell_type": "markdown",
   "id": "54820915-be1a-4d4b-9a3a-1d2110c4503e",
   "metadata": {},
   "source": [
    "Having defined the jobs, we can now write a function to submit requests to the OpenFIGI API to get the FIGI identifiers. This function includes an optional parameter for an API key. The API key is not mandatory for using FIGI, but possessing one will provide you with higher rate limits."
   ]
  },
  {
   "cell_type": "code",
   "execution_count": 123,
   "id": "69b1b93e-5d90-4e31-b879-a87ff324aa03",
   "metadata": {},
   "outputs": [],
   "source": [
    "def map_jobs(jobs: list[dict], openfigi_apikey:str=None):\n",
    "    handler = urllib.request.HTTPHandler()\n",
    "    opener = urllib.request.build_opener(handler)\n",
    "    openfigi_url = 'https://api.openfigi.com/v2/mapping'\n",
    "    request = urllib.request.Request(openfigi_url, data=bytes(json.dumps(jobs), encoding='utf-8'))\n",
    "    request.add_header('Content-Type','application/json')\n",
    "    if openfigi_apikey:\n",
    "        request.add_header('X-OPENFIGI-APIKEY', openfigi_apikey)\n",
    "    request.get_method = lambda: 'POST'\n",
    "    connection = opener.open(request)\n",
    "    if connection.code != 200:\n",
    "        raise Exception('Bad response code {}'.format(str(response.status_code)))\n",
    "    return json.loads(connection.read().decode('utf-8'))"
   ]
  },
  {
   "cell_type": "markdown",
   "id": "d86a8c74-afa3-45d8-9244-503e383a9c55",
   "metadata": {},
   "source": [
    "Now let's submit our jobs and explore the results"
   ]
  },
  {
   "cell_type": "code",
   "execution_count": 124,
   "id": "9027aedc-f1b2-4ef7-a9a2-6482c070f349",
   "metadata": {},
   "outputs": [
    {
     "name": "stdout",
     "output_type": "stream",
     "text": [
      "[{'data': [{'compositeFIGI': 'BBG000B9XRY4',\n",
      "            'exchCode': 'UN',\n",
      "            'figi': 'BBG000B9XVV8',\n",
      "            'marketSector': 'Equity',\n",
      "            'name': 'APPLE INC',\n",
      "            'securityDescription': 'AAPL',\n",
      "            'securityType': 'Common Stock',\n",
      "            'securityType2': 'Common Stock',\n",
      "            'shareClassFIGI': 'BBG001S5N8V8',\n",
      "            'ticker': 'AAPL',\n",
      "            'uniqueID': None,\n",
      "            'uniqueIDFutOpt': None}]},\n",
      " {'data': [{'compositeFIGI': 'BBG000BPH459',\n",
      "            'exchCode': 'UN',\n",
      "            'figi': 'BBG000BPH654',\n",
      "            'marketSector': 'Equity',\n",
      "            'name': 'MICROSOFT CORP',\n",
      "            'securityDescription': 'MSFT',\n",
      "            'securityType': 'Common Stock',\n",
      "            'securityType2': 'Common Stock',\n",
      "            'shareClassFIGI': 'BBG001S5TD05',\n",
      "            'ticker': 'MSFT',\n",
      "            'uniqueID': None,\n",
      "            'uniqueIDFutOpt': None}]}]\n"
     ]
    }
   ],
   "source": [
    "figi_job_results = map_jobs(jobs)\n",
    "pprint.pprint(figi_job_results)"
   ]
  },
  {
   "cell_type": "markdown",
   "id": "5828c4a3-65a7-422e-947b-dd54a7e1a475",
   "metadata": {},
   "source": [
    "The mapping job yields a list of dictionaries, each with a parent key named \"data\". To simplify converting this to a Pandas DataFrame, we’ll adjust the structure to exclude the 'data' keys and keep only their corresponding values."
   ]
  },
  {
   "cell_type": "code",
   "execution_count": 125,
   "id": "2ee6985d-13e3-40a0-beb3-96a9d9c170dc",
   "metadata": {},
   "outputs": [],
   "source": [
    "figi_job_result_dictionaries = [d['data'][0] for d in figi_job_results]"
   ]
  },
  {
   "cell_type": "markdown",
   "id": "c3894ea4-dacb-4303-acb4-94607f80500a",
   "metadata": {},
   "source": [
    "With this new list of dictionaries, we can directly convert it to a Pandas dataframe"
   ]
  },
  {
   "cell_type": "code",
   "execution_count": 126,
   "id": "34ce5619-8aad-4fbd-89c4-221ec0a9fed7",
   "metadata": {},
   "outputs": [
    {
     "data": {
      "text/html": [
       "<div>\n",
       "<style scoped>\n",
       "    .dataframe tbody tr th:only-of-type {\n",
       "        vertical-align: middle;\n",
       "    }\n",
       "\n",
       "    .dataframe tbody tr th {\n",
       "        vertical-align: top;\n",
       "    }\n",
       "\n",
       "    .dataframe thead th {\n",
       "        text-align: right;\n",
       "    }\n",
       "</style>\n",
       "<table border=\"1\" class=\"dataframe\">\n",
       "  <thead>\n",
       "    <tr style=\"text-align: right;\">\n",
       "      <th></th>\n",
       "      <th>figi</th>\n",
       "      <th>name</th>\n",
       "      <th>ticker</th>\n",
       "      <th>exchCode</th>\n",
       "      <th>compositeFIGI</th>\n",
       "      <th>uniqueID</th>\n",
       "      <th>securityType</th>\n",
       "      <th>marketSector</th>\n",
       "      <th>shareClassFIGI</th>\n",
       "      <th>uniqueIDFutOpt</th>\n",
       "      <th>securityType2</th>\n",
       "      <th>securityDescription</th>\n",
       "    </tr>\n",
       "  </thead>\n",
       "  <tbody>\n",
       "    <tr>\n",
       "      <th>0</th>\n",
       "      <td>BBG000B9XVV8</td>\n",
       "      <td>APPLE INC</td>\n",
       "      <td>AAPL</td>\n",
       "      <td>UN</td>\n",
       "      <td>BBG000B9XRY4</td>\n",
       "      <td>None</td>\n",
       "      <td>Common Stock</td>\n",
       "      <td>Equity</td>\n",
       "      <td>BBG001S5N8V8</td>\n",
       "      <td>None</td>\n",
       "      <td>Common Stock</td>\n",
       "      <td>AAPL</td>\n",
       "    </tr>\n",
       "    <tr>\n",
       "      <th>1</th>\n",
       "      <td>BBG000BPH654</td>\n",
       "      <td>MICROSOFT CORP</td>\n",
       "      <td>MSFT</td>\n",
       "      <td>UN</td>\n",
       "      <td>BBG000BPH459</td>\n",
       "      <td>None</td>\n",
       "      <td>Common Stock</td>\n",
       "      <td>Equity</td>\n",
       "      <td>BBG001S5TD05</td>\n",
       "      <td>None</td>\n",
       "      <td>Common Stock</td>\n",
       "      <td>MSFT</td>\n",
       "    </tr>\n",
       "  </tbody>\n",
       "</table>\n",
       "</div>"
      ],
      "text/plain": [
       "           figi            name ticker exchCode compositeFIGI uniqueID  \\\n",
       "0  BBG000B9XVV8       APPLE INC   AAPL       UN  BBG000B9XRY4     None   \n",
       "1  BBG000BPH654  MICROSOFT CORP   MSFT       UN  BBG000BPH459     None   \n",
       "\n",
       "   securityType marketSector shareClassFIGI uniqueIDFutOpt securityType2  \\\n",
       "0  Common Stock       Equity   BBG001S5N8V8           None  Common Stock   \n",
       "1  Common Stock       Equity   BBG001S5TD05           None  Common Stock   \n",
       "\n",
       "  securityDescription  \n",
       "0                AAPL  \n",
       "1                MSFT  "
      ]
     },
     "execution_count": 126,
     "metadata": {},
     "output_type": "execute_result"
    }
   ],
   "source": [
    "df_figi = pd.DataFrame.from_dict(figi_job_result_dictionaries)\n",
    "df_figi"
   ]
  },
  {
   "cell_type": "markdown",
   "id": "d9db9e3d-2f26-4e0d-8456-4bbf31fb1352",
   "metadata": {},
   "source": [
    "We don’t need all these fields, so let’s retain only the ones we want, discard the rest, and rename them using lowercase with underscores."
   ]
  },
  {
   "cell_type": "code",
   "execution_count": 127,
   "id": "dc93a936-1f55-4054-9555-252c2e4fe36a",
   "metadata": {},
   "outputs": [
    {
     "data": {
      "text/html": [
       "<div>\n",
       "<style scoped>\n",
       "    .dataframe tbody tr th:only-of-type {\n",
       "        vertical-align: middle;\n",
       "    }\n",
       "\n",
       "    .dataframe tbody tr th {\n",
       "        vertical-align: top;\n",
       "    }\n",
       "\n",
       "    .dataframe thead th {\n",
       "        text-align: right;\n",
       "    }\n",
       "</style>\n",
       "<table border=\"1\" class=\"dataframe\">\n",
       "  <thead>\n",
       "    <tr style=\"text-align: right;\">\n",
       "      <th></th>\n",
       "      <th>name</th>\n",
       "      <th>ticker</th>\n",
       "      <th>exchange_code</th>\n",
       "      <th>security_type</th>\n",
       "      <th>figi</th>\n",
       "      <th>market_sector</th>\n",
       "      <th>composite_figi</th>\n",
       "      <th>share_class_figi</th>\n",
       "    </tr>\n",
       "  </thead>\n",
       "  <tbody>\n",
       "    <tr>\n",
       "      <th>0</th>\n",
       "      <td>APPLE INC</td>\n",
       "      <td>AAPL</td>\n",
       "      <td>UN</td>\n",
       "      <td>Common Stock</td>\n",
       "      <td>BBG000B9XVV8</td>\n",
       "      <td>Equity</td>\n",
       "      <td>BBG000B9XRY4</td>\n",
       "      <td>BBG001S5N8V8</td>\n",
       "    </tr>\n",
       "    <tr>\n",
       "      <th>1</th>\n",
       "      <td>MICROSOFT CORP</td>\n",
       "      <td>MSFT</td>\n",
       "      <td>UN</td>\n",
       "      <td>Common Stock</td>\n",
       "      <td>BBG000BPH654</td>\n",
       "      <td>Equity</td>\n",
       "      <td>BBG000BPH459</td>\n",
       "      <td>BBG001S5TD05</td>\n",
       "    </tr>\n",
       "  </tbody>\n",
       "</table>\n",
       "</div>"
      ],
      "text/plain": [
       "             name ticker exchange_code security_type          figi  \\\n",
       "0       APPLE INC   AAPL            UN  Common Stock  BBG000B9XVV8   \n",
       "1  MICROSOFT CORP   MSFT            UN  Common Stock  BBG000BPH654   \n",
       "\n",
       "  market_sector composite_figi share_class_figi  \n",
       "0        Equity   BBG000B9XRY4     BBG001S5N8V8  \n",
       "1        Equity   BBG000BPH459     BBG001S5TD05  "
      ]
     },
     "execution_count": 127,
     "metadata": {},
     "output_type": "execute_result"
    }
   ],
   "source": [
    "df_figi.rename(columns={\"exchCode\": \"exchange_code\", \n",
    "                        \"compositeFIGI\": \"composite_figi\",\n",
    "                        \"securityType\": \"security_type\",\n",
    "                        \"marketSector\": \"market_sector\",\n",
    "                        \"shareClassFIGI\": \"share_class_figi\",\n",
    "                        \"securityType\": \"security_type\"},\n",
    "              inplace=True)\n",
    "df_figi.drop(columns=[\"uniqueID\", \"uniqueIDFutOpt\", \"securityDescription\", \"securityType2\"], inplace=True)\n",
    "df_figi = df_figi[[\"name\", \"ticker\", \"exchange_code\", \"security_type\", \"figi\", \"market_sector\", \"composite_figi\", \"share_class_figi\"]]\n",
    "df_figi"
   ]
  },
  {
   "cell_type": "markdown",
   "id": "8a45df97-8ed7-442f-a49e-6f1fa0e592f0",
   "metadata": {},
   "source": [
    "🎉 Great! We’ve successfully mapped tickers to their corresponding FIGIs and obtained additional information about our company stocks. Now, let’s proceed to the next step: PermIDs."
   ]
  },
  {
   "cell_type": "markdown",
   "id": "f2915b5d-74cc-4405-8b82-b58586e49007",
   "metadata": {},
   "source": [
    "### Get PermID identifiers\n",
    "\n",
    "[Permanent Identifier](https://developers.lseg.com/en/api-catalog/open-perm-id/permid-record-matching-restful-api/documentation/overview-and-concepts/faq#:~:text=Permanent%20Identifier%20(PermID)%20uniquely%20identifies,that%20often%20change%20over%20time.) (PermID) uniquely identifies objects in the LSEG Information Model. The model includes organizations, instruments, funds, issuers and people and defines how these objects are linked together – linkages that often change over time. Information available through the PermID system is segmented into multiple levels, including:\n",
    "\n",
    "\n",
    "\n",
    "- **Organization Level**: identifies organizations such as companies, institutions, or legal entities.\n",
    "\n",
    "- **Quote Level**: can be used to identify specific stock quotes or pricing information for an instrument on different exchanges.\n",
    "\n",
    "- **Instrument Level**: identifies individual financial instruments like stocks, bonds, derivatives, and funds.\n"
   ]
  },
  {
   "cell_type": "markdown",
   "id": "c6a8f514-9075-4b97-8545-3d038099e64a",
   "metadata": {},
   "source": [
    "![image info](https://github.com/TamerKhraisha/FinancialDataEngineering/blob/main/conferences/ODSC2024/images/permid.png?raw=true)\n",
    "\n",
    "For details on openFIGI API, see the official [webpage](https://www.openfigi.com/api)"
   ]
  },
  {
   "cell_type": "code",
   "execution_count": 128,
   "id": "0f68c72d-c65c-4f3c-a4e2-029cec640d7c",
   "metadata": {},
   "outputs": [
    {
     "name": "stdout",
     "output_type": "stream",
     "text": [
      "Your PermID key has been correctly set\n"
     ]
    }
   ],
   "source": [
    "# This is a small test to make sure that PermID API key has been properly set as an environmental variable\n",
    "if \"PERMID_API_KEY\" not in os.environ:\n",
    "    print(\"Missing PermID key!\")\n",
    "else:\n",
    "    print(\"Your PermID key has been correctly set\")"
   ]
  },
  {
   "cell_type": "code",
   "execution_count": 129,
   "id": "9d730a44-3256-4c07-8329-78cbd6d8f2c3",
   "metadata": {},
   "outputs": [],
   "source": [
    "def get_permid_data_using_search_api(tickers: list[str], mic: str):\n",
    "    results = {}\n",
    "    for ticker in tickers:\n",
    "        url = f'https://api-eit.refinitiv.com/permid/search?q=ticker:{ticker}%20AND%20mic:{mic}'\n",
    "        access_token = os.environ['PERMID_API_KEY']\n",
    "        headers = {'X-AG-Access-Token' : access_token}\n",
    "        try:\n",
    "            response = requests.get(url, headers=headers)\n",
    "        except Exception  as e:\n",
    "            print ('Error in connect ' , e)\n",
    "            return\n",
    "        if response.status_code == 200:\n",
    "            results[ticker] = response.json()\n",
    "    return results"
   ]
  },
  {
   "cell_type": "code",
   "execution_count": 130,
   "id": "cb2ee98b-495f-46c7-a6ba-78beae255315",
   "metadata": {},
   "outputs": [],
   "source": [
    "permid_search_api_results = get_permid_data_using_search_api(tickers=tickers, mic=mic_code)"
   ]
  },
  {
   "cell_type": "code",
   "execution_count": 131,
   "id": "e2070c18-ac6e-42ae-a338-0914ec9141a4",
   "metadata": {},
   "outputs": [
    {
     "data": {
      "text/plain": [
       "{'result': {'organizations': {'entityType': 'organizations',\n",
       "   'total': 1,\n",
       "   'start': 1,\n",
       "   'num': 1,\n",
       "   'entities': [{'@id': 'https://permid.org/1-4295905573',\n",
       "     'organizationName': 'Apple Inc',\n",
       "     'primaryTicker': 'AAPL',\n",
       "     'orgSubtype': 'Company',\n",
       "     'hasHoldingClassification': 'publiclyHeld',\n",
       "     'hasURL': 'https://www.apple.com/'}]},\n",
       "  'instruments': {'entityType': 'instruments',\n",
       "   'total': 1,\n",
       "   'start': 1,\n",
       "   'num': 1,\n",
       "   'entities': [{'@id': 'https://permid.org/1-8590932301',\n",
       "     'hasName': 'Apple Ord Shs',\n",
       "     'assetClass': 'Ordinary Shares',\n",
       "     'isIssuedByName': 'Apple Inc',\n",
       "     'isIssuedBy': 'https://permid.org/1-4295905573',\n",
       "     'hasPrimaryQuote': 'https://permid.org/1-55835312773',\n",
       "     'primaryTicker': 'AAPL'}]},\n",
       "  'quotes': {'entityType': 'quotes',\n",
       "   'total': 1,\n",
       "   'start': 1,\n",
       "   'num': 1,\n",
       "   'entities': [{'@id': 'https://permid.org/1-25727408109',\n",
       "     'hasName': 'APPLE ORD',\n",
       "     'assetClass': 'Ordinary Shares',\n",
       "     'isQuoteOfInstrumentName': 'Apple Ord Shs',\n",
       "     'hasRIC': 'AAPL.N',\n",
       "     'hasMic': 'XNYS',\n",
       "     'hasExchangeTicker': 'AAPL',\n",
       "     'isQuoteOf': 'https://permid.org/1-8590932301'}]}}}"
      ]
     },
     "execution_count": 131,
     "metadata": {},
     "output_type": "execute_result"
    }
   ],
   "source": [
    "permid_search_api_results[\"AAPL\"]"
   ]
  },
  {
   "cell_type": "markdown",
   "id": "f706fc79-97ae-4b57-ac88-1be3ebb126df",
   "metadata": {},
   "source": [
    "Let's parse the data and keep the fields we are interested in"
   ]
  },
  {
   "cell_type": "code",
   "execution_count": 132,
   "id": "13923e45-c01d-40be-a784-57ba161c056c",
   "metadata": {},
   "outputs": [],
   "source": [
    "dict_permid_data = {}\n",
    "for ticker in tickers:\n",
    "    dict_permid_data[ticker] = {\"ticker\": ticker}\n",
    "    dict_permid_data[ticker][\"org_permid_url\"] = permid_search_api_results[ticker][\"result\"][\"organizations\"][\"entities\"][0][\"@id\"]\n",
    "    dict_permid_data[ticker][\"org_permid_id\"] = permid_search_api_results[ticker][\"result\"][\"organizations\"][\"entities\"][0][\"@id\"].split(\"-\")[1]\n",
    "    dict_permid_data[ticker][\"instrument_permid_url\"] = permid_search_api_results[ticker][\"result\"][\"instruments\"][\"entities\"][0][\"@id\"]\n",
    "    dict_permid_data[ticker][\"instrument_permid_id\"] = permid_search_api_results[ticker][\"result\"][\"instruments\"][\"entities\"][0][\"@id\"].split(\"-\")[1]\n",
    "    dict_permid_data[ticker][\"quote_permid_url\"] = permid_search_api_results[ticker][\"result\"][\"quotes\"][\"entities\"][0][\"@id\"]\n",
    "    dict_permid_data[ticker][\"quote_permid_id\"] = permid_search_api_results[ticker][\"result\"][\"quotes\"][\"entities\"][0][\"@id\"].split(\"-\")[1]\n",
    "    dict_permid_data[ticker][\"ric\"] = permid_search_api_results[ticker][\"result\"][\"quotes\"][\"entities\"][0][\"hasRIC\"]\n",
    "    dict_permid_data[ticker][\"asset_class\"] = permid_search_api_results[ticker][\"result\"][\"instruments\"][\"entities\"][0][\"assetClass\"]\n",
    "    dict_permid_data[ticker][\"org_url\"] = permid_search_api_results[ticker][\"result\"][\"organizations\"][\"entities\"][0][\"hasURL\"]\n",
    "    dict_permid_data[ticker][\"holding_classification\"] = permid_search_api_results[ticker][\"result\"][\"organizations\"][\"entities\"][0][\"hasHoldingClassification\"]"
   ]
  },
  {
   "cell_type": "code",
   "execution_count": 133,
   "id": "9014dc71-ed7e-430a-8f0b-bdbaa50473f8",
   "metadata": {},
   "outputs": [
    {
     "name": "stdout",
     "output_type": "stream",
     "text": [
      "{'AAPL': {'asset_class': 'Ordinary Shares',\n",
      "          'holding_classification': 'publiclyHeld',\n",
      "          'instrument_permid_id': '8590932301',\n",
      "          'instrument_permid_url': 'https://permid.org/1-8590932301',\n",
      "          'org_permid_id': '4295905573',\n",
      "          'org_permid_url': 'https://permid.org/1-4295905573',\n",
      "          'org_url': 'https://www.apple.com/',\n",
      "          'quote_permid_id': '25727408109',\n",
      "          'quote_permid_url': 'https://permid.org/1-25727408109',\n",
      "          'ric': 'AAPL.N',\n",
      "          'ticker': 'AAPL'},\n",
      " 'MSFT': {'asset_class': 'Ordinary Shares',\n",
      "          'holding_classification': 'publiclyHeld',\n",
      "          'instrument_permid_id': '8590921450',\n",
      "          'instrument_permid_url': 'https://permid.org/1-8590921450',\n",
      "          'org_permid_id': '4295907168',\n",
      "          'org_permid_url': 'https://permid.org/1-4295907168',\n",
      "          'org_url': 'https://www.microsoft.com/en-us',\n",
      "          'quote_permid_id': '25727407231',\n",
      "          'quote_permid_url': 'https://permid.org/1-25727407231',\n",
      "          'ric': 'MSFT.N',\n",
      "          'ticker': 'MSFT'}}\n"
     ]
    }
   ],
   "source": [
    "pprint.pprint(dict_permid_data)"
   ]
  },
  {
   "cell_type": "code",
   "execution_count": 134,
   "id": "4c7939f8-3f26-47be-ae1a-e55ebe9d03f5",
   "metadata": {},
   "outputs": [],
   "source": [
    "def permid_additional_info(permid_url: str):\n",
    "    permid_headers = {\n",
    "        'Accept': 'text/turtle',\n",
    "    }\n",
    "\n",
    "    permid_params = {\n",
    "        'format': 'json-ld',\n",
    "        'access-token': os.environ['PERMID_API_KEY']\n",
    "    }\n",
    "\n",
    "    # The actual request\n",
    "    permid_response = requests.get(permid_url, headers=permid_headers, params=permid_params)\n",
    "    \n",
    "    # Convert the response to JSON\n",
    "    permid_data = json.loads(permid_response.content)\n",
    "    \n",
    "    return permid_data"
   ]
  },
  {
   "cell_type": "code",
   "execution_count": 135,
   "id": "c76588c6-3c59-412e-b83b-0d3b7817c9c4",
   "metadata": {},
   "outputs": [],
   "source": [
    "for ticker in tickers:\n",
    "    additional_info = permid_additional_info(permid_url=dict_permid_data[ticker][\"org_permid_url\"])\n",
    "    dict_permid_data[ticker]['ipo'] = additional_info['hasIPODate']\n",
    "    dict_permid_data[ticker]['address'] = additional_info['mdaas:HeadquartersAddress']\n",
    "    dict_permid_data[ticker]['phone'] = additional_info['tr-org:hasHeadquartersPhoneNumber']\n",
    "    dict_permid_data[ticker]['lei'] = additional_info['tr-org:hasLEI']"
   ]
  },
  {
   "cell_type": "code",
   "execution_count": 136,
   "id": "582d3eab-9433-4073-8662-75d8f977c427",
   "metadata": {},
   "outputs": [
    {
     "name": "stdout",
     "output_type": "stream",
     "text": [
      "{'AAPL': {'address': 'One Apple Park Way\\n'\n",
      "                     'CUPERTINO\\n'\n",
      "                     'CALIFORNIA\\n'\n",
      "                     '95014\\n'\n",
      "                     'United States\\n',\n",
      "          'asset_class': 'Ordinary Shares',\n",
      "          'holding_classification': 'publiclyHeld',\n",
      "          'instrument_permid_id': '8590932301',\n",
      "          'instrument_permid_url': 'https://permid.org/1-8590932301',\n",
      "          'ipo': '1980-12-12T05:00:00Z',\n",
      "          'lei': 'HWUPKR0MPOU8FGXBT394',\n",
      "          'org_permid_id': '4295905573',\n",
      "          'org_permid_url': 'https://permid.org/1-4295905573',\n",
      "          'org_url': 'https://www.apple.com/',\n",
      "          'phone': '14089961010',\n",
      "          'quote_permid_id': '25727408109',\n",
      "          'quote_permid_url': 'https://permid.org/1-25727408109',\n",
      "          'ric': 'AAPL.N',\n",
      "          'ticker': 'AAPL'},\n",
      " 'MSFT': {'address': 'One Microsoft Way\\n'\n",
      "                     'REDMOND\\n'\n",
      "                     'WASHINGTON\\n'\n",
      "                     '98052-6399\\n'\n",
      "                     'United States\\n',\n",
      "          'asset_class': 'Ordinary Shares',\n",
      "          'holding_classification': 'publiclyHeld',\n",
      "          'instrument_permid_id': '8590921450',\n",
      "          'instrument_permid_url': 'https://permid.org/1-8590921450',\n",
      "          'ipo': '1986-03-13T05:00:00Z',\n",
      "          'lei': 'INR2EJN1ERAN0W5ZP974',\n",
      "          'org_permid_id': '4295907168',\n",
      "          'org_permid_url': 'https://permid.org/1-4295907168',\n",
      "          'org_url': 'https://www.microsoft.com/en-us',\n",
      "          'phone': '14258828080',\n",
      "          'quote_permid_id': '25727407231',\n",
      "          'quote_permid_url': 'https://permid.org/1-25727407231',\n",
      "          'ric': 'MSFT.N',\n",
      "          'ticker': 'MSFT'}}\n"
     ]
    }
   ],
   "source": [
    "pprint.pprint(dict_permid_data)"
   ]
  },
  {
   "cell_type": "markdown",
   "id": "6e1a33c8-3090-49f5-98e7-38993258127e",
   "metadata": {},
   "source": [
    "## Get more info from the GLEIF API"
   ]
  },
  {
   "cell_type": "markdown",
   "id": "541149d4-1a90-4ef0-96cf-0557aede4ab4",
   "metadata": {},
   "source": [
    "**GLEIF (Global Legal Entity Identifier Foundation)** is an organization established to support the implementation and use of the Legal Entity Identifier (LEI) system.\n",
    "\n",
    "[GLEIF API](https://www.gleif.org/en/lei-data/gleif-api) gives access to LEI identifiers and related corporate data\n",
    "\n",
    "In this tutorial, we will be retreiving the BIC codes for our sample of five companies using their LEI identifiers which we got from PermID"
   ]
  },
  {
   "cell_type": "code",
   "execution_count": 137,
   "id": "dd9ebf60-e37c-4071-bef4-4d284b3d9791",
   "metadata": {},
   "outputs": [],
   "source": [
    "def query_lei_records(lei: str, page_size: int=10, page_number:int=1):\n",
    "    # Define the endpoint URL\n",
    "    url = f\"https://api.gleif.org/api/v1/lei-records?page[size]={page_size}&page[number]={page_number}&filter[lei]={lei}\"    \n",
    "    try:\n",
    "        # Send a GET request to the endpoint\n",
    "        response = requests.get(url)\n",
    "        \n",
    "        # Check if the request was successful (status code 200)\n",
    "        if response.status_code == 200:\n",
    "            # Parse the JSON response\n",
    "            data = response.json()\n",
    "            \n",
    "            # Extract the \"data\" field from the response\n",
    "            lei_records = data.get(\"data\")\n",
    "            \n",
    "            # Return the lei_records data\n",
    "            return lei_records\n",
    "        else:\n",
    "            print(f\"Failed to fetch LEI records. Status code: {response.status_code}\")\n",
    "            return None\n",
    "    except Exception as e:\n",
    "        print(f\"An error occurred: {e}\")\n",
    "        return None"
   ]
  },
  {
   "cell_type": "code",
   "execution_count": 138,
   "id": "723c8771-7154-4569-8f49-fc85e5cc5867",
   "metadata": {},
   "outputs": [
    {
     "name": "stdout",
     "output_type": "stream",
     "text": [
      "[{'attributes': {'bic': ['APLEUS66XXX'],\n",
      "                 'conformityFlag': 'CONFORMING',\n",
      "                 'entity': {'associatedEntity': {'lei': None, 'name': None},\n",
      "                            'category': 'GENERAL',\n",
      "                            'creationDate': '1977-01-03T00:00:00Z',\n",
      "                            'eventGroups': [],\n",
      "                            'expiration': {'date': None, 'reason': None},\n",
      "                            'headquartersAddress': {'addressLines': ['ONE '\n",
      "                                                                     'APPLE '\n",
      "                                                                     'PARK '\n",
      "                                                                     'WAY'],\n",
      "                                                    'addressNumber': None,\n",
      "                                                    'addressNumberWithinBuilding': None,\n",
      "                                                    'city': 'CUPERTINO',\n",
      "                                                    'country': 'US',\n",
      "                                                    'language': 'en',\n",
      "                                                    'mailRouting': None,\n",
      "                                                    'postalCode': '95014',\n",
      "                                                    'region': 'US-CA'},\n",
      "                            'jurisdiction': 'US-CA',\n",
      "                            'legalAddress': {'addressLines': ['C/O C T '\n",
      "                                                              'Corporation '\n",
      "                                                              'System',\n",
      "                                                              '330 N. Brand '\n",
      "                                                              'Blvd',\n",
      "                                                              'Suite 700'],\n",
      "                                             'addressNumber': None,\n",
      "                                             'addressNumberWithinBuilding': None,\n",
      "                                             'city': 'Glendale',\n",
      "                                             'country': 'US',\n",
      "                                             'language': 'en',\n",
      "                                             'mailRouting': None,\n",
      "                                             'postalCode': '91203',\n",
      "                                             'region': 'US-CA'},\n",
      "                            'legalForm': {'id': 'H1UM', 'other': None},\n",
      "                            'legalName': {'language': 'en',\n",
      "                                          'name': 'Apple Inc.'},\n",
      "                            'otherAddresses': [],\n",
      "                            'otherNames': [{'language': 'en',\n",
      "                                            'name': 'Apple Computer, Inc.',\n",
      "                                            'type': 'PREVIOUS_LEGAL_NAME'}],\n",
      "                            'registeredAs': '806592',\n",
      "                            'registeredAt': {'id': 'RA000598', 'other': None},\n",
      "                            'status': 'ACTIVE',\n",
      "                            'subCategory': None,\n",
      "                            'successorEntities': [],\n",
      "                            'successorEntity': {'lei': None, 'name': None},\n",
      "                            'transliteratedOtherNames': []},\n",
      "                 'lei': 'HWUPKR0MPOU8FGXBT394',\n",
      "                 'mic': None,\n",
      "                 'ocid': None,\n",
      "                 'registration': {'corroborationLevel': 'FULLY_CORROBORATED',\n",
      "                                  'initialRegistrationDate': '2012-06-06T15:53:00Z',\n",
      "                                  'lastUpdateDate': '2024-04-04T11:27:32Z',\n",
      "                                  'managingLou': '5493001KJTIIGC8Y1R12',\n",
      "                                  'nextRenewalDate': '2025-04-08T17:27:20Z',\n",
      "                                  'otherValidationAuthorities': [],\n",
      "                                  'status': 'ISSUED',\n",
      "                                  'validatedAs': '806592',\n",
      "                                  'validatedAt': {'id': 'RA000598',\n",
      "                                                  'other': None}},\n",
      "                 'spglobal': ['24937']},\n",
      "  'id': 'HWUPKR0MPOU8FGXBT394',\n",
      "  'links': {'self': 'https://api.gleif.org/api/v1/lei-records/HWUPKR0MPOU8FGXBT394'},\n",
      "  'relationships': {'direct-children': {'links': {'related': 'https://api.gleif.org/api/v1/lei-records/HWUPKR0MPOU8FGXBT394/direct-children',\n",
      "                                                  'relationship-records': 'https://api.gleif.org/api/v1/lei-records/HWUPKR0MPOU8FGXBT394/direct-child-relationships'}},\n",
      "                    'direct-parent': {'links': {'reporting-exception': 'https://api.gleif.org/api/v1/lei-records/HWUPKR0MPOU8FGXBT394/direct-parent-reporting-exception'}},\n",
      "                    'field-modifications': {'links': {'related': 'https://api.gleif.org/api/v1/lei-records/HWUPKR0MPOU8FGXBT394/field-modifications'}},\n",
      "                    'isins': {'links': {'related': 'https://api.gleif.org/api/v1/lei-records/HWUPKR0MPOU8FGXBT394/isins'}},\n",
      "                    'lei-issuer': {'links': {'related': 'https://api.gleif.org/api/v1/lei-records/HWUPKR0MPOU8FGXBT394/lei-issuer'}},\n",
      "                    'managing-lou': {'links': {'related': 'https://api.gleif.org/api/v1/lei-records/HWUPKR0MPOU8FGXBT394/managing-lou'}},\n",
      "                    'ultimate-children': {'links': {'related': 'https://api.gleif.org/api/v1/lei-records/HWUPKR0MPOU8FGXBT394/ultimate-children',\n",
      "                                                    'relationship-records': 'https://api.gleif.org/api/v1/lei-records/HWUPKR0MPOU8FGXBT394/ultimate-child-relationships'}},\n",
      "                    'ultimate-parent': {'links': {'reporting-exception': 'https://api.gleif.org/api/v1/lei-records/HWUPKR0MPOU8FGXBT394/ultimate-parent-reporting-exception'}}},\n",
      "  'type': 'lei-records'}]\n"
     ]
    }
   ],
   "source": [
    "apple_lei_data = query_lei_records(lei=dict_permid_data[\"AAPL\"][\"lei\"])\n",
    "pprint.pprint(apple_lei_data)"
   ]
  },
  {
   "cell_type": "code",
   "execution_count": 139,
   "id": "0da5362b-3a79-47f8-8962-f5ac38eb7179",
   "metadata": {},
   "outputs": [],
   "source": [
    "for ticker in tickers:\n",
    "    dict_permid_data[ticker][\"bic\"] = query_lei_records(lei=dict_permid_data[ticker][\"lei\"])[0].get(\"attributes\").get(\"bic\")"
   ]
  },
  {
   "cell_type": "markdown",
   "id": "1ab4dc0b-45ef-4c5b-b179-37bf3ad0f952",
   "metadata": {},
   "source": [
    "### Prepare the final df with permids and gleif data"
   ]
  },
  {
   "cell_type": "code",
   "execution_count": 140,
   "id": "afc8049b-ac83-4856-aadb-adfbc42c1607",
   "metadata": {},
   "outputs": [],
   "source": [
    "df_permid_gleif = pd.DataFrame(dict_permid_data.values())"
   ]
  },
  {
   "cell_type": "markdown",
   "id": "9e63c707-aaba-45be-9d7d-2119a2ca60e1",
   "metadata": {},
   "source": [
    "### Merge FIGI data"
   ]
  },
  {
   "cell_type": "code",
   "execution_count": 175,
   "id": "b792e7e9-d578-4514-bb3f-2cd430ff1aa2",
   "metadata": {},
   "outputs": [
    {
     "data": {
      "text/html": [
       "<div>\n",
       "<style scoped>\n",
       "    .dataframe tbody tr th:only-of-type {\n",
       "        vertical-align: middle;\n",
       "    }\n",
       "\n",
       "    .dataframe tbody tr th {\n",
       "        vertical-align: top;\n",
       "    }\n",
       "\n",
       "    .dataframe thead th {\n",
       "        text-align: right;\n",
       "    }\n",
       "</style>\n",
       "<table border=\"1\" class=\"dataframe\">\n",
       "  <thead>\n",
       "    <tr style=\"text-align: right;\">\n",
       "      <th></th>\n",
       "      <th>name</th>\n",
       "      <th>ticker</th>\n",
       "      <th>exchange_code</th>\n",
       "      <th>security_type</th>\n",
       "      <th>figi</th>\n",
       "      <th>market_sector</th>\n",
       "      <th>composite_figi</th>\n",
       "      <th>share_class_figi</th>\n",
       "      <th>org_permid_url</th>\n",
       "      <th>org_permid_id</th>\n",
       "      <th>...</th>\n",
       "      <th>quote_permid_id</th>\n",
       "      <th>ric</th>\n",
       "      <th>asset_class</th>\n",
       "      <th>org_url</th>\n",
       "      <th>holding_classification</th>\n",
       "      <th>ipo</th>\n",
       "      <th>address</th>\n",
       "      <th>phone</th>\n",
       "      <th>lei</th>\n",
       "      <th>bic</th>\n",
       "    </tr>\n",
       "  </thead>\n",
       "  <tbody>\n",
       "    <tr>\n",
       "      <th>0</th>\n",
       "      <td>APPLE INC</td>\n",
       "      <td>AAPL</td>\n",
       "      <td>UN</td>\n",
       "      <td>Common Stock</td>\n",
       "      <td>BBG000B9XVV8</td>\n",
       "      <td>Equity</td>\n",
       "      <td>BBG000B9XRY4</td>\n",
       "      <td>BBG001S5N8V8</td>\n",
       "      <td>https://permid.org/1-4295905573</td>\n",
       "      <td>4295905573</td>\n",
       "      <td>...</td>\n",
       "      <td>25727408109</td>\n",
       "      <td>AAPL.N</td>\n",
       "      <td>Ordinary Shares</td>\n",
       "      <td>https://www.apple.com/</td>\n",
       "      <td>publiclyHeld</td>\n",
       "      <td>1980-12-12T05:00:00Z</td>\n",
       "      <td>One Apple Park Way\\nCUPERTINO\\nCALIFORNIA\\n950...</td>\n",
       "      <td>14089961010</td>\n",
       "      <td>HWUPKR0MPOU8FGXBT394</td>\n",
       "      <td>[APLEUS66XXX]</td>\n",
       "    </tr>\n",
       "    <tr>\n",
       "      <th>1</th>\n",
       "      <td>MICROSOFT CORP</td>\n",
       "      <td>MSFT</td>\n",
       "      <td>UN</td>\n",
       "      <td>Common Stock</td>\n",
       "      <td>BBG000BPH654</td>\n",
       "      <td>Equity</td>\n",
       "      <td>BBG000BPH459</td>\n",
       "      <td>BBG001S5TD05</td>\n",
       "      <td>https://permid.org/1-4295907168</td>\n",
       "      <td>4295907168</td>\n",
       "      <td>...</td>\n",
       "      <td>25727407231</td>\n",
       "      <td>MSFT.N</td>\n",
       "      <td>Ordinary Shares</td>\n",
       "      <td>https://www.microsoft.com/en-us</td>\n",
       "      <td>publiclyHeld</td>\n",
       "      <td>1986-03-13T05:00:00Z</td>\n",
       "      <td>One Microsoft Way\\nREDMOND\\nWASHINGTON\\n98052-...</td>\n",
       "      <td>14258828080</td>\n",
       "      <td>INR2EJN1ERAN0W5ZP974</td>\n",
       "      <td>[MSFTUS66XXX]</td>\n",
       "    </tr>\n",
       "  </tbody>\n",
       "</table>\n",
       "<p>2 rows × 23 columns</p>\n",
       "</div>"
      ],
      "text/plain": [
       "             name ticker exchange_code security_type          figi  \\\n",
       "0       APPLE INC   AAPL            UN  Common Stock  BBG000B9XVV8   \n",
       "1  MICROSOFT CORP   MSFT            UN  Common Stock  BBG000BPH654   \n",
       "\n",
       "  market_sector composite_figi share_class_figi  \\\n",
       "0        Equity   BBG000B9XRY4     BBG001S5N8V8   \n",
       "1        Equity   BBG000BPH459     BBG001S5TD05   \n",
       "\n",
       "                    org_permid_url org_permid_id  ... quote_permid_id     ric  \\\n",
       "0  https://permid.org/1-4295905573    4295905573  ...     25727408109  AAPL.N   \n",
       "1  https://permid.org/1-4295907168    4295907168  ...     25727407231  MSFT.N   \n",
       "\n",
       "       asset_class                          org_url holding_classification  \\\n",
       "0  Ordinary Shares           https://www.apple.com/           publiclyHeld   \n",
       "1  Ordinary Shares  https://www.microsoft.com/en-us           publiclyHeld   \n",
       "\n",
       "                    ipo                                            address  \\\n",
       "0  1980-12-12T05:00:00Z  One Apple Park Way\\nCUPERTINO\\nCALIFORNIA\\n950...   \n",
       "1  1986-03-13T05:00:00Z  One Microsoft Way\\nREDMOND\\nWASHINGTON\\n98052-...   \n",
       "\n",
       "         phone                   lei            bic  \n",
       "0  14089961010  HWUPKR0MPOU8FGXBT394  [APLEUS66XXX]  \n",
       "1  14258828080  INR2EJN1ERAN0W5ZP974  [MSFTUS66XXX]  \n",
       "\n",
       "[2 rows x 23 columns]"
      ]
     },
     "execution_count": 175,
     "metadata": {},
     "output_type": "execute_result"
    }
   ],
   "source": [
    "final_reference_dataframe = df_figi.merge(df_permid_gleif, on=\"ticker\")\n",
    "final_reference_dataframe"
   ]
  },
  {
   "cell_type": "markdown",
   "id": "4767f59d-9bad-4ba9-b5bb-c725186c78f8",
   "metadata": {},
   "source": [
    "### Get market data from AlphaVantage\n",
    "\n",
    "[AlphaVantage](https://www.alphavantage.co/) is a financial data provider offering real-time and historical APIs for stock market data, options, forex, and crypto, along with over 60 technical and economic indicators, market news and sentiment analysis, and extensive global coverage across asset classes.\n"
   ]
  },
  {
   "cell_type": "code",
   "execution_count": 142,
   "id": "c41bfb9b-7052-46f0-a1e6-cea2432f8c78",
   "metadata": {},
   "outputs": [],
   "source": [
    "def get_market_data_by_ticker(ticker):\n",
    "    url = f'https://www.alphavantage.co/query?function=TIME_SERIES_DAILY&symbol={ticker}&outputsize=compact&datatype=csv&adjusted=true&apikey={alphavantage_api_key}'\n",
    "    request_result = requests.get(url)\n",
    "    df = pd.read_csv(io.StringIO(request_result.text), sep=',')\n",
    "    df['ticker'] = ticker\n",
    "    return df"
   ]
  },
  {
   "cell_type": "code",
   "execution_count": 156,
   "id": "b72209e8-0bc6-47b8-a910-8189010dc2b4",
   "metadata": {},
   "outputs": [],
   "source": [
    "alphavantage_data_df = pd.DataFrame()\n",
    "for ticker in tickers:\n",
    "    ticker_data = get_market_data_by_ticker(ticker)\n",
    "    alphavantage_data_df = pd.concat([alphavantage_data_df, ticker_data], axis=0)\n",
    "alphavantage_data_df.reset_index(inplace=True, drop=True)"
   ]
  },
  {
   "cell_type": "code",
   "execution_count": 187,
   "id": "80147707-d58c-435c-a698-3a8dabc6fcb7",
   "metadata": {},
   "outputs": [],
   "source": [
    "alphavantage_data_df.rename(columns={\"timestamp\": \"market_data_date\"}, inplace=True)"
   ]
  },
  {
   "cell_type": "markdown",
   "id": "01f5a0d8-2e6b-4fc1-880b-8af1982caa9e",
   "metadata": {},
   "source": [
    "#### Let's see a sample of the data\n"
   ]
  },
  {
   "cell_type": "code",
   "execution_count": 188,
   "id": "ce747339-e685-4a88-8fdf-46c84e47916f",
   "metadata": {},
   "outputs": [
    {
     "data": {
      "text/html": [
       "<div>\n",
       "<style scoped>\n",
       "    .dataframe tbody tr th:only-of-type {\n",
       "        vertical-align: middle;\n",
       "    }\n",
       "\n",
       "    .dataframe tbody tr th {\n",
       "        vertical-align: top;\n",
       "    }\n",
       "\n",
       "    .dataframe thead th {\n",
       "        text-align: right;\n",
       "    }\n",
       "</style>\n",
       "<table border=\"1\" class=\"dataframe\">\n",
       "  <thead>\n",
       "    <tr style=\"text-align: right;\">\n",
       "      <th></th>\n",
       "      <th>market_data_date</th>\n",
       "      <th>open</th>\n",
       "      <th>high</th>\n",
       "      <th>low</th>\n",
       "      <th>close</th>\n",
       "      <th>volume</th>\n",
       "      <th>ticker</th>\n",
       "    </tr>\n",
       "  </thead>\n",
       "  <tbody>\n",
       "    <tr>\n",
       "      <th>0</th>\n",
       "      <td>2024-11-15</td>\n",
       "      <td>226.40</td>\n",
       "      <td>226.92</td>\n",
       "      <td>224.270</td>\n",
       "      <td>225.00</td>\n",
       "      <td>47923696</td>\n",
       "      <td>AAPL</td>\n",
       "    </tr>\n",
       "    <tr>\n",
       "      <th>1</th>\n",
       "      <td>2024-11-14</td>\n",
       "      <td>225.02</td>\n",
       "      <td>228.87</td>\n",
       "      <td>225.000</td>\n",
       "      <td>228.22</td>\n",
       "      <td>44923941</td>\n",
       "      <td>AAPL</td>\n",
       "    </tr>\n",
       "    <tr>\n",
       "      <th>2</th>\n",
       "      <td>2024-11-13</td>\n",
       "      <td>224.01</td>\n",
       "      <td>226.65</td>\n",
       "      <td>222.760</td>\n",
       "      <td>225.12</td>\n",
       "      <td>48566217</td>\n",
       "      <td>AAPL</td>\n",
       "    </tr>\n",
       "    <tr>\n",
       "      <th>3</th>\n",
       "      <td>2024-11-12</td>\n",
       "      <td>224.55</td>\n",
       "      <td>225.59</td>\n",
       "      <td>223.355</td>\n",
       "      <td>224.23</td>\n",
       "      <td>40398299</td>\n",
       "      <td>AAPL</td>\n",
       "    </tr>\n",
       "    <tr>\n",
       "      <th>4</th>\n",
       "      <td>2024-11-11</td>\n",
       "      <td>225.00</td>\n",
       "      <td>225.70</td>\n",
       "      <td>221.500</td>\n",
       "      <td>224.23</td>\n",
       "      <td>42005602</td>\n",
       "      <td>AAPL</td>\n",
       "    </tr>\n",
       "  </tbody>\n",
       "</table>\n",
       "</div>"
      ],
      "text/plain": [
       "  market_data_date    open    high      low   close    volume ticker\n",
       "0       2024-11-15  226.40  226.92  224.270  225.00  47923696   AAPL\n",
       "1       2024-11-14  225.02  228.87  225.000  228.22  44923941   AAPL\n",
       "2       2024-11-13  224.01  226.65  222.760  225.12  48566217   AAPL\n",
       "3       2024-11-12  224.55  225.59  223.355  224.23  40398299   AAPL\n",
       "4       2024-11-11  225.00  225.70  221.500  224.23  42005602   AAPL"
      ]
     },
     "execution_count": 188,
     "metadata": {},
     "output_type": "execute_result"
    }
   ],
   "source": [
    "alphavantage_data_df.head()"
   ]
  },
  {
   "cell_type": "markdown",
   "id": "d8e90956-845f-443f-846c-f747760b4c75",
   "metadata": {},
   "source": [
    "#### Let's filter the data to take the most recent price"
   ]
  },
  {
   "cell_type": "code",
   "execution_count": 189,
   "id": "5179d624-d93b-47a1-961e-9f32728132bb",
   "metadata": {},
   "outputs": [],
   "source": [
    "# Get the index of the max date for each ticker\n",
    "max_date_idx = alphavantage_data_df.groupby('ticker')['market_data_date'].idxmax()\n",
    "\n",
    "# Filter the DataFrame using these indices\n",
    "filtered_alphavantage_data_df = alphavantage_data_df.loc[max_date_idx]"
   ]
  },
  {
   "cell_type": "code",
   "execution_count": 190,
   "id": "36823048-90b7-4274-96af-c3c0290916bc",
   "metadata": {},
   "outputs": [
    {
     "data": {
      "text/html": [
       "<div>\n",
       "<style scoped>\n",
       "    .dataframe tbody tr th:only-of-type {\n",
       "        vertical-align: middle;\n",
       "    }\n",
       "\n",
       "    .dataframe tbody tr th {\n",
       "        vertical-align: top;\n",
       "    }\n",
       "\n",
       "    .dataframe thead th {\n",
       "        text-align: right;\n",
       "    }\n",
       "</style>\n",
       "<table border=\"1\" class=\"dataframe\">\n",
       "  <thead>\n",
       "    <tr style=\"text-align: right;\">\n",
       "      <th></th>\n",
       "      <th>market_data_date</th>\n",
       "      <th>open</th>\n",
       "      <th>high</th>\n",
       "      <th>low</th>\n",
       "      <th>close</th>\n",
       "      <th>volume</th>\n",
       "      <th>ticker</th>\n",
       "    </tr>\n",
       "  </thead>\n",
       "  <tbody>\n",
       "    <tr>\n",
       "      <th>0</th>\n",
       "      <td>2024-11-15</td>\n",
       "      <td>226.40</td>\n",
       "      <td>226.92</td>\n",
       "      <td>224.27</td>\n",
       "      <td>225.0</td>\n",
       "      <td>47923696</td>\n",
       "      <td>AAPL</td>\n",
       "    </tr>\n",
       "    <tr>\n",
       "      <th>100</th>\n",
       "      <td>2024-11-15</td>\n",
       "      <td>419.82</td>\n",
       "      <td>422.80</td>\n",
       "      <td>413.64</td>\n",
       "      <td>415.0</td>\n",
       "      <td>28247644</td>\n",
       "      <td>MSFT</td>\n",
       "    </tr>\n",
       "  </tbody>\n",
       "</table>\n",
       "</div>"
      ],
      "text/plain": [
       "    market_data_date    open    high     low  close    volume ticker\n",
       "0         2024-11-15  226.40  226.92  224.27  225.0  47923696   AAPL\n",
       "100       2024-11-15  419.82  422.80  413.64  415.0  28247644   MSFT"
      ]
     },
     "execution_count": 190,
     "metadata": {},
     "output_type": "execute_result"
    }
   ],
   "source": [
    "filtered_alphavantage_data_df"
   ]
  },
  {
   "cell_type": "markdown",
   "id": "a8f6271d-442b-4c0a-b05b-ff97ef5c1363",
   "metadata": {},
   "source": [
    "## Get fundamentals data from FinancialModelingPrep\n",
    "\n",
    "[FinancialModelingPrep](https://site.financialmodelingprep.com/) offers APIs to access a wide range of financial data, including:\n",
    "\n",
    "- Stock Market Data: Realtime and historical data for global stocks, ETFs, and mutual funds.\n",
    "- Fundamental Data: Access to company profiles, financial statements (income statement, balance sheet, cash flow), and key financial metrics.\n",
    "- Market Indices & Currencies: Data for popular indices and foreign exchange rates.\n",
    "- Cryptocurrency Data: Realtime and historical data for various cryptocurrencies.\n",
    "- Technical Indicators: APIs for various technical indicators (e.g., SMA, EMA, MACD).\n",
    "- Earnings & Economic Data: Access to earnings calendars, economic indicators, and market news."
   ]
  },
  {
   "cell_type": "code",
   "execution_count": 161,
   "id": "d9726611-b502-43e2-a348-f27f99bdb629",
   "metadata": {},
   "outputs": [],
   "source": [
    "def get_fundamentals_data_by_ticker(ticker):\n",
    "    url = f'https://financialmodelingprep.com/api/v3/income-statement/{ticker}?period=annual&apikey={financialmodelingprep_api_key}'\n",
    "    response = requests.get(url)\n",
    "    response_data = response.json()\n",
    "    return response_data"
   ]
  },
  {
   "cell_type": "markdown",
   "id": "3a54fa65-d2b6-4707-aeb8-7c34dea32356",
   "metadata": {},
   "source": [
    "#### Fetch the data"
   ]
  },
  {
   "cell_type": "code",
   "execution_count": 162,
   "id": "55a85bd0-8aec-4e85-a59b-30a4638b5ad6",
   "metadata": {},
   "outputs": [],
   "source": [
    "fmp_data_dict = {}\n",
    "for ticker in tickers:\n",
    "    fmp_data_dict[ticker] = get_fundamentals_data_by_ticker(ticker)"
   ]
  },
  {
   "cell_type": "markdown",
   "id": "28bcc52f-dc3c-4bb6-b95d-384101063d5b",
   "metadata": {},
   "source": [
    "#### See a sample of the data"
   ]
  },
  {
   "cell_type": "code",
   "execution_count": 164,
   "id": "897dc7a2-effd-4b24-9461-48be1d5a8f68",
   "metadata": {},
   "outputs": [
    {
     "data": {
      "text/plain": [
       "{'date': '2024-09-28',\n",
       " 'symbol': 'AAPL',\n",
       " 'reportedCurrency': 'USD',\n",
       " 'cik': '0000320193',\n",
       " 'fillingDate': '2024-11-01',\n",
       " 'acceptedDate': '2024-11-01 06:01:36',\n",
       " 'calendarYear': '2024',\n",
       " 'period': 'FY',\n",
       " 'revenue': 391035000000,\n",
       " 'costOfRevenue': 210352000000,\n",
       " 'grossProfit': 180683000000,\n",
       " 'grossProfitRatio': 0.4620634982,\n",
       " 'researchAndDevelopmentExpenses': 31370000000,\n",
       " 'generalAndAdministrativeExpenses': 0,\n",
       " 'sellingAndMarketingExpenses': 0,\n",
       " 'sellingGeneralAndAdministrativeExpenses': 26097000000,\n",
       " 'otherExpenses': 0,\n",
       " 'operatingExpenses': 57467000000,\n",
       " 'costAndExpenses': 267819000000,\n",
       " 'interestIncome': 0,\n",
       " 'interestExpense': 0,\n",
       " 'depreciationAndAmortization': 11445000000,\n",
       " 'ebitda': 134661000000,\n",
       " 'ebitdaratio': 0.3443707085,\n",
       " 'operatingIncome': 123216000000,\n",
       " 'operatingIncomeRatio': 0.3151022287,\n",
       " 'totalOtherIncomeExpensesNet': 269000000,\n",
       " 'incomeBeforeTax': 123485000000,\n",
       " 'incomeBeforeTaxRatio': 0.3157901467,\n",
       " 'incomeTaxExpense': 29749000000,\n",
       " 'netIncome': 93736000000,\n",
       " 'netIncomeRatio': 0.2397125577,\n",
       " 'eps': 6.11,\n",
       " 'epsdiluted': 6.08,\n",
       " 'weightedAverageShsOut': 15343783000,\n",
       " 'weightedAverageShsOutDil': 15408095000,\n",
       " 'link': 'https://www.sec.gov/Archives/edgar/data/320193/000032019324000123/0000320193-24-000123-index.htm',\n",
       " 'finalLink': 'https://www.sec.gov/Archives/edgar/data/320193/000032019324000123/aapl-20240928.htm'}"
      ]
     },
     "execution_count": 164,
     "metadata": {},
     "output_type": "execute_result"
    }
   ],
   "source": [
    "fmp_data_dict[\"AAPL\"][0]"
   ]
  },
  {
   "cell_type": "markdown",
   "id": "6e09668b-d245-4b8f-8e15-c02bc38efd83",
   "metadata": {},
   "source": [
    "#### We convert the raw data into a Pandas dataframe"
   ]
  },
  {
   "cell_type": "code",
   "execution_count": 192,
   "id": "0244eb8f-0d44-47c7-a0f7-79a77690572f",
   "metadata": {},
   "outputs": [],
   "source": [
    "fmp_df = pd.DataFrame()\n",
    "for ticker in tickers:\n",
    "    ticker_df = pd.DataFrame([fmp_data_dict[ticker][0]])\n",
    "    fmp_df = pd.concat([fmp_df, ticker_df], axis=0)\n",
    "fmp_df.rename(columns={\"symbol\": \"ticker\", \"fillingDate\": \"fundamental_data_filling_date\", \"netIncome\": \"net_income\", \"reportedCurrency\": \"reporting_currency\"}, inplace=True)"
   ]
  },
  {
   "cell_type": "markdown",
   "id": "4a2ff94b-e7aa-40c5-86ec-0aa34acea0d8",
   "metadata": {},
   "source": [
    "#### Let's take a few items to build our final dataset"
   ]
  },
  {
   "cell_type": "code",
   "execution_count": 193,
   "id": "61c19912-2ccf-4be0-9663-921b50f545df",
   "metadata": {},
   "outputs": [],
   "source": [
    "fmp_df_filtered = fmp_df[[\"ticker\", \"cik\", \"revenue\", \"reporting_currency\", \"net_income\", \"fundamental_data_filling_date\"]]"
   ]
  },
  {
   "cell_type": "code",
   "execution_count": 194,
   "id": "55c8a902-5cc2-482b-80cd-c1b48a498afd",
   "metadata": {},
   "outputs": [
    {
     "data": {
      "text/html": [
       "<div>\n",
       "<style scoped>\n",
       "    .dataframe tbody tr th:only-of-type {\n",
       "        vertical-align: middle;\n",
       "    }\n",
       "\n",
       "    .dataframe tbody tr th {\n",
       "        vertical-align: top;\n",
       "    }\n",
       "\n",
       "    .dataframe thead th {\n",
       "        text-align: right;\n",
       "    }\n",
       "</style>\n",
       "<table border=\"1\" class=\"dataframe\">\n",
       "  <thead>\n",
       "    <tr style=\"text-align: right;\">\n",
       "      <th></th>\n",
       "      <th>ticker</th>\n",
       "      <th>cik</th>\n",
       "      <th>revenue</th>\n",
       "      <th>reporting_currency</th>\n",
       "      <th>net_income</th>\n",
       "      <th>fundamental_data_filling_date</th>\n",
       "    </tr>\n",
       "  </thead>\n",
       "  <tbody>\n",
       "    <tr>\n",
       "      <th>0</th>\n",
       "      <td>AAPL</td>\n",
       "      <td>0000320193</td>\n",
       "      <td>391035000000</td>\n",
       "      <td>USD</td>\n",
       "      <td>93736000000</td>\n",
       "      <td>2024-11-01</td>\n",
       "    </tr>\n",
       "    <tr>\n",
       "      <th>0</th>\n",
       "      <td>MSFT</td>\n",
       "      <td>0000789019</td>\n",
       "      <td>245122000000</td>\n",
       "      <td>USD</td>\n",
       "      <td>88136000000</td>\n",
       "      <td>2024-07-30</td>\n",
       "    </tr>\n",
       "  </tbody>\n",
       "</table>\n",
       "</div>"
      ],
      "text/plain": [
       "  ticker         cik       revenue reporting_currency   net_income  \\\n",
       "0   AAPL  0000320193  391035000000                USD  93736000000   \n",
       "0   MSFT  0000789019  245122000000                USD  88136000000   \n",
       "\n",
       "  fundamental_data_filling_date  \n",
       "0                    2024-11-01  \n",
       "0                    2024-07-30  "
      ]
     },
     "execution_count": 194,
     "metadata": {},
     "output_type": "execute_result"
    }
   ],
   "source": [
    "fmp_df_filtered"
   ]
  },
  {
   "cell_type": "markdown",
   "id": "b7af5a62-0a58-4eea-a8c8-ceaa4b22fb2d",
   "metadata": {},
   "source": [
    "#### Let's merge our market and fundamentals data"
   ]
  },
  {
   "cell_type": "code",
   "execution_count": 195,
   "id": "710ca33e-5b86-4647-806f-55a9d0bdbe8e",
   "metadata": {},
   "outputs": [],
   "source": [
    "market_and_fundamentals_df = fmp_df_filtered.merge(filtered_alphavantage_data_df, on=\"ticker\")"
   ]
  },
  {
   "cell_type": "code",
   "execution_count": 196,
   "id": "56ac47b8-0911-4b1f-9caf-cb06a7d035f7",
   "metadata": {},
   "outputs": [
    {
     "data": {
      "text/html": [
       "<div>\n",
       "<style scoped>\n",
       "    .dataframe tbody tr th:only-of-type {\n",
       "        vertical-align: middle;\n",
       "    }\n",
       "\n",
       "    .dataframe tbody tr th {\n",
       "        vertical-align: top;\n",
       "    }\n",
       "\n",
       "    .dataframe thead th {\n",
       "        text-align: right;\n",
       "    }\n",
       "</style>\n",
       "<table border=\"1\" class=\"dataframe\">\n",
       "  <thead>\n",
       "    <tr style=\"text-align: right;\">\n",
       "      <th></th>\n",
       "      <th>ticker</th>\n",
       "      <th>cik</th>\n",
       "      <th>revenue</th>\n",
       "      <th>reporting_currency</th>\n",
       "      <th>net_income</th>\n",
       "      <th>fundamental_data_filling_date</th>\n",
       "      <th>market_data_date</th>\n",
       "      <th>open</th>\n",
       "      <th>high</th>\n",
       "      <th>low</th>\n",
       "      <th>close</th>\n",
       "      <th>volume</th>\n",
       "    </tr>\n",
       "  </thead>\n",
       "  <tbody>\n",
       "    <tr>\n",
       "      <th>0</th>\n",
       "      <td>AAPL</td>\n",
       "      <td>0000320193</td>\n",
       "      <td>391035000000</td>\n",
       "      <td>USD</td>\n",
       "      <td>93736000000</td>\n",
       "      <td>2024-11-01</td>\n",
       "      <td>2024-11-15</td>\n",
       "      <td>226.40</td>\n",
       "      <td>226.92</td>\n",
       "      <td>224.27</td>\n",
       "      <td>225.0</td>\n",
       "      <td>47923696</td>\n",
       "    </tr>\n",
       "    <tr>\n",
       "      <th>1</th>\n",
       "      <td>MSFT</td>\n",
       "      <td>0000789019</td>\n",
       "      <td>245122000000</td>\n",
       "      <td>USD</td>\n",
       "      <td>88136000000</td>\n",
       "      <td>2024-07-30</td>\n",
       "      <td>2024-11-15</td>\n",
       "      <td>419.82</td>\n",
       "      <td>422.80</td>\n",
       "      <td>413.64</td>\n",
       "      <td>415.0</td>\n",
       "      <td>28247644</td>\n",
       "    </tr>\n",
       "  </tbody>\n",
       "</table>\n",
       "</div>"
      ],
      "text/plain": [
       "  ticker         cik       revenue reporting_currency   net_income  \\\n",
       "0   AAPL  0000320193  391035000000                USD  93736000000   \n",
       "1   MSFT  0000789019  245122000000                USD  88136000000   \n",
       "\n",
       "  fundamental_data_filling_date market_data_date    open    high     low  \\\n",
       "0                    2024-11-01       2024-11-15  226.40  226.92  224.27   \n",
       "1                    2024-07-30       2024-11-15  419.82  422.80  413.64   \n",
       "\n",
       "   close    volume  \n",
       "0  225.0  47923696  \n",
       "1  415.0  28247644  "
      ]
     },
     "execution_count": 196,
     "metadata": {},
     "output_type": "execute_result"
    }
   ],
   "source": [
    "market_and_fundamentals_df"
   ]
  },
  {
   "cell_type": "markdown",
   "id": "00b846b1-4497-408d-9cc1-0028399bf424",
   "metadata": {},
   "source": [
    "#### Now let's merge everything into one dataframe"
   ]
  },
  {
   "cell_type": "code",
   "execution_count": 200,
   "id": "33982ab6-b779-4624-9baf-7c6e7acd216b",
   "metadata": {},
   "outputs": [],
   "source": [
    "reference_fundamental_market_data = final_reference_dataframe.merge(market_and_fundamentals_df, on=\"ticker\")"
   ]
  },
  {
   "cell_type": "markdown",
   "id": "be93998f-270c-4ffe-99d4-b2ff3cb032b0",
   "metadata": {},
   "source": [
    "#### Let's see the final outcome"
   ]
  },
  {
   "cell_type": "code",
   "execution_count": 203,
   "id": "26e84905-d262-4879-b5dd-8c70863f6d66",
   "metadata": {},
   "outputs": [
    {
     "data": {
      "text/plain": [
       "{'name': 'APPLE INC',\n",
       " 'ticker': 'AAPL',\n",
       " 'exchange_code': 'UN',\n",
       " 'security_type': 'Common Stock',\n",
       " 'figi': 'BBG000B9XVV8',\n",
       " 'market_sector': 'Equity',\n",
       " 'composite_figi': 'BBG000B9XRY4',\n",
       " 'share_class_figi': 'BBG001S5N8V8',\n",
       " 'org_permid_url': 'https://permid.org/1-4295905573',\n",
       " 'org_permid_id': '4295905573',\n",
       " 'instrument_permid_url': 'https://permid.org/1-8590932301',\n",
       " 'instrument_permid_id': '8590932301',\n",
       " 'quote_permid_url': 'https://permid.org/1-25727408109',\n",
       " 'quote_permid_id': '25727408109',\n",
       " 'ric': 'AAPL.N',\n",
       " 'asset_class': 'Ordinary Shares',\n",
       " 'org_url': 'https://www.apple.com/',\n",
       " 'holding_classification': 'publiclyHeld',\n",
       " 'ipo': '1980-12-12T05:00:00Z',\n",
       " 'address': 'One Apple Park Way\\nCUPERTINO\\nCALIFORNIA\\n95014\\nUnited States\\n',\n",
       " 'phone': '14089961010',\n",
       " 'lei': 'HWUPKR0MPOU8FGXBT394',\n",
       " 'bic': ['APLEUS66XXX'],\n",
       " 'cik': '0000320193',\n",
       " 'revenue': 391035000000,\n",
       " 'reporting_currency': 'USD',\n",
       " 'net_income': 93736000000,\n",
       " 'fundamental_data_filling_date': '2024-11-01',\n",
       " 'market_data_date': '2024-11-15',\n",
       " 'open': 226.4,\n",
       " 'high': 226.92,\n",
       " 'low': 224.27,\n",
       " 'close': 225.0,\n",
       " 'volume': 47923696}"
      ]
     },
     "execution_count": 203,
     "metadata": {},
     "output_type": "execute_result"
    }
   ],
   "source": [
    "reference_fundamental_market_data.query(\"ticker == 'AAPL'\").to_dict(orient='records')[0]"
   ]
  },
  {
   "cell_type": "markdown",
   "id": "da3e7eac-77a5-480e-891b-5c1db466cf56",
   "metadata": {},
   "source": [
    "## That's it for this tutorial\n",
    "\n",
    "<img src=\"https://github.com/TamerKhraisha/FinancialDataEngineering/blob/main/conferences/DSC2024/images/party.png?raw=true\" alt=\"image info\" width=\"200\">"
   ]
  },
  {
   "cell_type": "markdown",
   "id": "50177d36-dbe4-4223-90d4-7b345a83edfb",
   "metadata": {},
   "source": [
    "##### We started with just one field—company tickers—and a handful of ticker symbols, but now we’ve expanded our data to include 23 fields that include company name, FIGI, PermID, Legal Entity Identifier (LEI), Business Identifier Code (BIC), IPO date, physical address, website, phone number, and more.\n",
    "\n",
    "### Not bad, right?"
   ]
  }
 ],
 "metadata": {
  "kernelspec": {
   "display_name": "Python 3 (ipykernel)",
   "language": "python",
   "name": "python3"
  },
  "language_info": {
   "codemirror_mode": {
    "name": "ipython",
    "version": 3
   },
   "file_extension": ".py",
   "mimetype": "text/x-python",
   "name": "python",
   "nbconvert_exporter": "python",
   "pygments_lexer": "ipython3",
   "version": "3.11.6"
  }
 },
 "nbformat": 4,
 "nbformat_minor": 5
}
